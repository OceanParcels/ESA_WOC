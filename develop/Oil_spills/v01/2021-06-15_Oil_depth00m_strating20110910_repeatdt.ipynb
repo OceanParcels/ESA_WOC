{
 "cells": [
  {
   "cell_type": "markdown",
   "metadata": {},
   "source": [
    "# Try for test case 01 using globcurrent data"
   ]
  },
  {
   "cell_type": "markdown",
   "metadata": {},
   "source": [
    "## 14 days"
   ]
  },
  {
   "cell_type": "markdown",
   "metadata": {},
   "source": [
    "## adapted from test05 of GlobCurrent"
   ]
  },
  {
   "cell_type": "code",
   "execution_count": 1,
   "metadata": {},
   "outputs": [],
   "source": [
    "#%matplotlib inline\n",
    "from parcels import Field, FieldSet, ParticleSet, JITParticle, plotTrajectoriesFile, AdvectionRK4, ErrorCode\n",
    "import numpy as np\n",
    "from datetime import timedelta, datetime"
   ]
  },
  {
   "cell_type": "code",
   "execution_count": 2,
   "metadata": {},
   "outputs": [],
   "source": [
    "from glob import glob\n",
    "import xarray as xr\n",
    "import matplotlib.pyplot as plt\n",
    "from netCDF4 import num2date,date2num\n",
    "\n",
    "from matplotlib.animation import FuncAnimation\n",
    "from IPython.display import HTML\n",
    "from matplotlib import colors \n",
    "\n",
    "import cartopy\n",
    "import cartopy.crs as ccrs\n",
    "from cartopy.mpl.gridliner import LONGITUDE_FORMATTER, LATITUDE_FORMATTER\n",
    "#from cartopy.mpl.ticker import LongitudeFormatter, LatitudeFormatter#"
   ]
  },
  {
   "cell_type": "markdown",
   "metadata": {},
   "source": [
    "* Case 1: Incident occurred on 10/09/2011, west coast of Denmark, ~40km SW of Ringkobing Fjord. Collision with a fishing vessel. Substance spilt was bunker fuel (IFO), Swedish coast impacted.\n",
    "    * Approx: 55.791887, 7.696803"
   ]
  },
  {
   "cell_type": "code",
   "execution_count": 3,
   "metadata": {},
   "outputs": [],
   "source": [
    "data_path_v01 = '/data/oceanparcels/input_data/ESA_WorldOceanCirculation/NorthAtlantic/'\n",
    "fname_v01 = 'runWOC_NATL_4lb_v1_201109*.nc' #runWOC_NATL_4lb_v1_20110901.nc"
   ]
  },
  {
   "cell_type": "markdown",
   "metadata": {},
   "source": [
    "# 1. Setting up the velocity fields in a FieldSet object"
   ]
  },
  {
   "cell_type": "code",
   "execution_count": 4,
   "metadata": {},
   "outputs": [],
   "source": [
    "filenames = {'U': data_path_v01 + fname_v01, 'V': data_path_v01 + fname_v01}\n",
    "variables = {'U': 'utot', 'V': 'vtot'}\n",
    "dimensions = {'U': {'lat': 'lat', 'lon': 'lon', 'time': 'time', 'depth': 'depth'},\n",
    "              'V': {'lat': 'lat', 'lon': 'lon', 'time': 'time', 'depth': 'depth'}}\n",
    "indices = {'depth': [0]} # choosing 0m depth\n",
    "fieldset = FieldSet.from_netcdf(filenames, variables, dimensions, indices)\n"
   ]
  },
  {
   "cell_type": "markdown",
   "metadata": {},
   "source": [
    "# 2. Defining the particles type and initial conditions in a ParticleSet object"
   ]
  },
  {
   "cell_type": "markdown",
   "metadata": {},
   "source": [
    "## 2.1. Start 20 particles on a meridional line at 7E"
   ]
  },
  {
   "cell_type": "code",
   "execution_count": 5,
   "metadata": {},
   "outputs": [],
   "source": [
    "npart = 20\n",
    "lonp = 7 * np.ones(npart)\n",
    "latp = [i for i in np.linspace(55, 57, npart)]"
   ]
  },
  {
   "cell_type": "code",
   "execution_count": 6,
   "metadata": {},
   "outputs": [],
   "source": [
    "depp = lonp.copy()\n",
    "depp[:] = 0.\n"
   ]
  },
  {
   "cell_type": "code",
   "execution_count": 7,
   "metadata": {},
   "outputs": [],
   "source": [
    "timep = datetime(2011,9,10)"
   ]
  },
  {
   "cell_type": "code",
   "execution_count": 8,
   "metadata": {},
   "outputs": [],
   "source": [
    "from datetime import timedelta as delta\n",
    "\n",
    "repeatdt = delta(hours=3.)  # release from the same set of locations every 3 hours"
   ]
  },
  {
   "cell_type": "markdown",
   "metadata": {},
   "source": [
    "## 2.2 Defining the particle set:"
   ]
  },
  {
   "cell_type": "code",
   "execution_count": 9,
   "metadata": {},
   "outputs": [],
   "source": [
    "pset_v2 = ParticleSet(fieldset=fieldset, pclass=JITParticle, lon=lonp, lat=np.array(latp), depth=depp, time=timep, repeatdt=repeatdt)\n"
   ]
  },
  {
   "cell_type": "markdown",
   "metadata": {},
   "source": [
    "# 3. Executing the simulation:"
   ]
  },
  {
   "cell_type": "markdown",
   "metadata": {},
   "source": [
    "## 3.1. Defining parameters and complementary kernels"
   ]
  },
  {
   "cell_type": "code",
   "execution_count": 10,
   "metadata": {},
   "outputs": [],
   "source": [
    "def DeleteParticle(particle, fieldset, time):\n",
    "    particle.delete()"
   ]
  },
  {
   "cell_type": "code",
   "execution_count": 11,
   "metadata": {},
   "outputs": [],
   "source": [
    "def add_WOC_nc_attbts(noutput_file, start_time, end_time, lomin, lomax, lamin, lamax\n",
    "                      , input_filename, ntitle, summary, inid, ndepth):\n",
    "    \"\"\"\n",
    "    Function to add the netCDF attributes.\n",
    "    Inputs:\n",
    "    start_time : \"2017-01-01T00:28:08Z\"\n",
    "    \n",
    "    (TATL)-99.0, -46.0, 5., 30.\n",
    "    (NATL)-75.0, 20., 48., 80.\n",
    "    \n",
    "    ntitle: title\n",
    "        * \"North Atlantic 2D horizontal drift of Oil for ESA WOC project\" \n",
    "        * \"Tropical Atlantic 2D horizontal drift of Sargassum for ESA WOC project\"  \n",
    "    \n",
    "    summary :\"This dataset contains the positions of virtual particles at \n",
    "        * 0m\n",
    "        * 15m \n",
    "    representing the trajectories of \n",
    "        * oil in the North Atlantic \n",
    "        * Sargassum in “the Tropical Atlantic\"\n",
    "    \n",
    "    input_filename: input = \"name of input filename(s). Ex : ERA5 (ocean currents) : file1\n",
    "    ,  CMEMS (MULTIOBS_GLO_PHY_REP_015_004) : file2\n",
    "        * NATL: \"WOC-L4-CUReul-NATL-1H: runWOC_NATL_4lb_v1_201109*.nc\"\n",
    "        * TATL: \"WOC-L4-CUReul-TATL-1H: runWOC_TATL_4lb_v1_201803*.nc\"\n",
    "        \n",
    "    inid:\n",
    "        * \"WOC-L4-CURlag-NATL_OIL_SPILL_DRIFT_1H_INST\" --> \"NATL_OIL_SPILL_DRIFT_1H_INST\"\n",
    "        * \"WOC-L4-CURlag-NATL_OIL_SPILL_DRIFT_1H_CONT\" --> \"NATL_OIL_SPILL_DRIFT_1H_CONT\"\n",
    "    ndepth\n",
    "        * \"0\" or \"15\"\n",
    "\n",
    "    \"\"\"\n",
    "\n",
    "    noutput_file.add_metadata('Conventions',\"CF-1.7, ACDD-1.3, ISO 8601\")\n",
    "    noutput_file.add_metadata('Metadata_Conventions', \"Climate and Forecast (CF) 1.7, Attribute Convention for Data Discovery (ACDD) 1.3\")\n",
    "    noutput_file.add_metadata('standard_name_vocabulary', \"NetCDF Climate and Forecast (CF) Metadata Convention version 1.8\")\n",
    "            \n",
    "    noutput_file.add_metadata('title', ntitle)\n",
    "    noutput_file.add_metadata('summary', summary)\n",
    "    \n",
    "    noutput_file.add_metadata('id',  \"WOC-L4-CURlag-\" + inid) \n",
    "    noutput_file.add_metadata('institution', \"Utrecht University, Institut Francais de Recherche pour l\\'Exploitation de la mer / CERSAT, European Space Agency\")\n",
    "    noutput_file.add_metadata('institution_abbreviation', \"Utrecht University, Ifremer/Cersat, ESA\")\n",
    "    noutput_file.add_metadata('references', \"Delandmeter, P., & Sebille, E. V. The Parcels v2. 0 Lagrangian framework: new field interpolation schemes. Geoscientific Model Development 2019, vol. 12, No. 8, 3571-3584. https://doi.org/10.5194/gmd-12-3571-2019.\")\n",
    "    \n",
    "    noutput_file.add_metadata('product_version',\"1.0\")\n",
    "    noutput_file.add_metadata('keywords', \"Earth Science > Oceans > Ocean Circulation > Ocean Currents\")\n",
    "    noutput_file.add_metadata('keywords_vocabulary', \"NASA Global Change Master Directory (GCMD) Science Keywords\")\n",
    "        \n",
    "    noutput_file.add_metadata('naming_authority', \"fr.ifremer.cersat\")\n",
    "    noutput_file.add_metadata('cdm_data_type', \"trajectory\")\n",
    "            \n",
    "    noutput_file.add_metadata('comment',\"These data were produced at IMAU, Utrecht University (Netherlands) as part of the ESA WOC project.\")\n",
    "    noutput_file.add_metadata('creator', 'Laura Gomez Navarro')\n",
    "    noutput_file.add_metadata('creator_url', 'https://oceanparcels.org/')\n",
    "\n",
    "    noutput_file.add_metadata('creator_email', \"l.gomeznavarro@uu.nl\")\n",
    "    noutput_file.add_metadata('creator_institution',\"IMAU, Utrecht University\")\n",
    "\n",
    "    noutput_file.add_metadata('project',\"World Ocean Circulation (WOC) - European Space Agency\")\n",
    "    noutput_file.add_metadata('time_coverage_start', start_time)\n",
    "\n",
    "    noutput_file.add_metadata('time_coverage_end', end_time)\n",
    "\n",
    "    noutput_file.add_metadata('geospatial_lat_min', lamin)\n",
    "    noutput_file.add_metadata('geospatial_lat_max', lamax)\n",
    "    noutput_file.add_metadata('geospatial_lat_units',\"degree_north\")\n",
    "    noutput_file.add_metadata('geospatial_lon_min', lomin)\n",
    "    noutput_file.add_metadata('geospatial_lon_max', lomax)\n",
    "    noutput_file.add_metadata('geospatial_lon_units', \"degree_east\")\n",
    "    noutput_file.add_metadata('geospatial_vertical_min', ndepth)\n",
    "    noutput_file.add_metadata('geospatial_vertical_max', ndepth)\n",
    "    noutput_file.add_metadata('geospatial_vertical_units', \"meters below mean sea level\")\n",
    "    noutput_file.add_metadata('geospatial_vertical_positive', \"down\")\n",
    "                              \n",
    "    noutput_file.add_metadata('license', \"ESA WOC Data Policy: free and open access\")\n",
    "\n",
    "    noutput_file.add_metadata('netcdf_version_id', \"4.6.1 of May 13 2018 11:35:43 $\")\n",
    "    noutput_file.add_metadata('acknowledgement', \"Please acknowledge the use of these data with the following statement: these data were obtained from the ESA WOC project\")\n",
    "    noutput_file.add_metadata('format_version', \"WOC v1.0\")\n",
    "    noutput_file.add_metadata('processing_level', \"L4\")\n",
    "    noutput_file.add_metadata('method'\n",
    "            ,\"2D lagrangian advection using Runge-Kutta4 and executed using the OceanParcels framework\")\n",
    "    \n",
    "    import uuid\n",
    "    noutput_file.add_metadata('track_id', str(uuid.uuid4()))\n",
    "\n",
    "    noutput_file.add_metadata('publisher_name',\"CERSAT\")\n",
    "    noutput_file.add_metadata('publisher_url',\"cersat.ifremer.fr\")\n",
    "    noutput_file.add_metadata('publisher_email',\"cersat@ifremer.fr\")\n",
    "    noutput_file.add_metadata('publisher_institution',\"Ifremer / CERSAT\")\n",
    "    noutput_file.add_metadata('scientific_support_contact', \"l.gomeznavarro@uu.nl\")\n",
    "\n",
    "    noutput_file.add_metadata('technical_support_contact',\"cersat@ifremer.fr\")\n",
    "    noutput_file.add_metadata('key_variables',\"eastward_eulerian_current_velocity, westward_eulerian_current_velocity\")\n",
    "    noutput_file.add_metadata('date_created',\"2021-06-02T14:34:41\") # modify for TATL and other simus NATL\n",
    "    noutput_file.add_metadata('date_modified', \"2021-06-02T14:34:41\") # modify for TATL and other simus NATL    noutput_file.add_metadata('source',\"parcels\")\n",
    "    noutput_file.add_metadata('source_version',\"2.2.2.dev126+g6dd05b7\")\n",
    "    noutput_file.add_metadata('history',\"2021-06-02 14:34:41 - Creation\") # modify for TATL and other simus NATL\n",
    "    noutput_file.add_metadata('input', input_filename)\n",
    "\n",
    "    noutput_file.add_metadata('processing_software',\"parcels\")\n",
    "\n",
    "\n"
   ]
  },
  {
   "cell_type": "code",
   "execution_count": 12,
   "metadata": {},
   "outputs": [],
   "source": [
    "outdir =  \"/data/oceanparcels/output_data/data_LauraGN/outputs_parcels/WOC/Oil/\"\n",
    "file_name = \"20110910000000-WOC-L4-CURlag-NATL_oil_spill_drift_1H_00m_continuous-v1.0-fv1.0.nc\""
   ]
  },
  {
   "cell_type": "code",
   "execution_count": 13,
   "metadata": {},
   "outputs": [
    {
     "name": "stderr",
     "output_type": "stream",
     "text": [
      "INFO: Compiled JITParticleAdvectionRK4 ==> /tmp/parcels-319202/6080b0428719b8f14aad334de6b96697_0.so\n",
      "INFO: Temporary output files are stored in /data/oceanparcels/output_data/data_LauraGN/outputs_parcels/WOC/Oil/out-AGKEGZHH.\n",
      "INFO: You can use \"parcels_convert_npydir_to_netcdf /data/oceanparcels/output_data/data_LauraGN/outputs_parcels/WOC/Oil/out-AGKEGZHH\" to convert these to a NetCDF file during the run.\n",
      "100% |########################################################################|\n"
     ]
    },
    {
     "name": "stdout",
     "output_type": "stream",
     "text": [
      "1987200.0\n"
     ]
    }
   ],
   "source": [
    "output_file = pset_v2.ParticleFile(name=outdir + file_name, outputdt=timedelta(hours=1))\n",
    "\n",
    "pset_v2.execute(AdvectionRK4, runtime=timedelta(days=14.), dt=timedelta(minutes=10),\n",
    "             recovery={ErrorCode.ErrorOutOfBounds: DeleteParticle}, output_file=output_file)\n",
    "\n",
    "start_time = timep.isoformat()\n",
    "# Check in case it's not NaN:\n",
    "print(pset_v2.particle_data['time'][0]) #modify to assert \n",
    "time_unit_out= \"seconds since \" + str(pset_v2.time_origin)\n",
    "end_time = (num2date(pset_v2.particle_data['time'][0], time_unit_out)).isoformat()\n",
    "\n",
    "add_WOC_nc_attbts(output_file, start_time, end_time, -75.0, 20., 48., 80.\n",
    "        , input_filename=\"runWOC_NATL_4lb_v1_201109*.nc\"\n",
    "        , ntitle=\"North Atlantic 2D horizontal drift of continuous Oil spill for ESA WOC project\" \n",
    "        , summary=\"This dataset contains the positions of virtual particles released starting on 10/09/2011 and re-released every 3h. Simulations are done at 0m representing the trajectories of oil in the North Atlantic.\"\n",
    "        , inid = \"NATL_OIL_SPILL_DRIFT_1H_CONT\"\n",
    "        , ndepth = \"0\")\n",
    "\n",
    "output_file.export()  # exports the trajectory data to a netcdf file\n"
   ]
  },
  {
   "cell_type": "markdown",
   "metadata": {},
   "source": [
    "# 4. Checking the outputs:"
   ]
  },
  {
   "cell_type": "code",
   "execution_count": 14,
   "metadata": {},
   "outputs": [
    {
     "name": "stdout",
     "output_type": "stream",
     "text": [
      "20110901000000-WOC-L4-CURlag_00m-NATL_OIL_SPILL_DRIFT_1H_INST-v1.0-fv2.0.nc\r\n",
      "20110901000000-WOC-L4-CURlag_15m-NATL_OIL_SPILL_DRIFT_1H_INST-v1.0-fv2.0.nc\r\n",
      "20110910000000-WOC-L4-CURlag-NATL_oil_spill_drift_1H_00m_continuous-v1.0-fv1.0.nc\r\n",
      "20110910000000-WOC-L4-CURlag-NATL_oil_spill_drift_1H_00m_instantaneous-v1.0-fv1.0.nc\r\n",
      "20110910000000-WOC-L4-CURlag-NATL_oil_spill_drift_1H_15m_continuous-v1.0-fv1.0.nc\r\n",
      "20110910000000-WOC-L4-CURlag-NATL_oil_spill_drift_1H_15m_instantaneous-v1.0-fv1.0.nc\r\n",
      "20110910000000-WOC-L4-CURlag-NATL_oil_spill_drift_1H_instantaneous-v1.0-fv1.0.nc\r\n",
      "NATL_oil_spill_drift_1H_00m_inst_MASK_dist_test01.nc\r\n",
      "NATL_oil_spill_drift_1H_00m_inst_MASK_dist_test02.nc\r\n",
      "NATL_oil_spill_drift_1H_00m_inst_MASK_dist_test02_b.nc\r\n",
      "NATL_oil_spill_drift_1H_00m_inst_MASK_dist_test02_c.nc\r\n",
      "NATL_oil_spill_drift_1H_00m_inst_MASK_dist_test04_c.nc\r\n",
      "NATL_oil_spill_drift_1H_00m_instantaneous_BEACHING_CP_test01.nc\r\n",
      "NATL_oil_spill_drift_1H_00m_instantaneous_BEACHING_CP_test02.nc\r\n",
      "NATL_oil_spill_drift_1H_15m_inst_DIST_test01.nc\r\n",
      "WOC_Oil_v01_15m.nc\r\n",
      "WOC_Oil_v01_15m_CMEMS.nc\r\n",
      "WOC_Oil_v01_15m_new01.nc\r\n",
      "WOC_Oil_v01_15m_new02.nc\r\n",
      "WOC_Oil_v01_repeatDT_test01.nc\r\n",
      "WOC_Oil_v01_test01.nc\r\n",
      "WOC_Oil_v01_test02.nc\r\n",
      "WOC_Oil_v01_test02_0m.nc\r\n",
      "WOC_Oil_v01_test02_0m_CMEMS.nc\r\n",
      "out-AGKEGZHH\r\n",
      "out-KZSLZDGS\r\n",
      "test\r\n"
     ]
    }
   ],
   "source": [
    "!ls /data/oceanparcels/output_data/data_LauraGN/outputs_parcels/WOC/Oil/"
   ]
  },
  {
   "cell_type": "code",
   "execution_count": 15,
   "metadata": {},
   "outputs": [],
   "source": [
    "!rm -rf out*"
   ]
  },
  {
   "cell_type": "code",
   "execution_count": 16,
   "metadata": {
    "scrolled": true
   },
   "outputs": [
    {
     "name": "stdout",
     "output_type": "stream",
     "text": [
      "netcdf \\20110910000000-WOC-L4-CURlag-NATL_oil_spill_drift_1H_00m_continuous-v1.0-fv1.0 {\r\n",
      "dimensions:\r\n",
      "\tobs = 337 ;\r\n",
      "\ttraj = 2260 ;\r\n",
      "variables:\r\n",
      "\tint64 trajectory(traj, obs) ;\r\n",
      "\t\ttrajectory:_FillValue = -9223372036854775808L ;\r\n",
      "\t\ttrajectory:long_name = \"Unique identifier for each particle\" ;\r\n",
      "\t\ttrajectory:cf_role = \"trajectory_id\" ;\r\n",
      "\tdouble time(traj, obs) ;\r\n",
      "\t\ttime:_FillValue = NaN ;\r\n",
      "\t\ttime:long_name = \"\" ;\r\n",
      "\t\ttime:standard_name = \"time\" ;\r\n",
      "\t\ttime:units = \"seconds since 2011-09-01T00:00:00.000000000\" ;\r\n",
      "\t\ttime:calendar = \"standard\" ;\r\n",
      "\t\ttime:axis = \"T\" ;\r\n",
      "\tfloat lat(traj, obs) ;\r\n",
      "\t\tlat:_FillValue = NaNf ;\r\n",
      "\t\tlat:long_name = \"\" ;\r\n",
      "\t\tlat:standard_name = \"latitude\" ;\r\n",
      "\t\tlat:units = \"degrees_north\" ;\r\n",
      "\t\tlat:axis = \"Y\" ;\r\n",
      "\tfloat lon(traj, obs) ;\r\n",
      "\t\tlon:_FillValue = NaNf ;\r\n",
      "\t\tlon:long_name = \"\" ;\r\n",
      "\t\tlon:standard_name = \"longitude\" ;\r\n",
      "\t\tlon:units = \"degrees_east\" ;\r\n",
      "\t\tlon:axis = \"X\" ;\r\n",
      "\tfloat z(traj, obs) ;\r\n",
      "\t\tz:_FillValue = NaNf ;\r\n",
      "\t\tz:long_name = \"\" ;\r\n",
      "\t\tz:standard_name = \"depth\" ;\r\n",
      "\t\tz:units = \"m\" ;\r\n",
      "\t\tz:positive = \"down\" ;\r\n",
      "\r\n",
      "// global attributes:\r\n",
      "\t\t:feature_type = \"trajectory\" ;\r\n",
      "\t\t:Conventions = \"CF-1.7, ACDD-1.3, ISO 8601\" ;\r\n",
      "\t\t:ncei_template_version = \"NCEI_NetCDF_Trajectory_Template_v2.0\" ;\r\n",
      "\t\t:parcels_version = \"2.2.2.dev126+g6dd05b7\" ;\r\n",
      "\t\t:parcels_mesh = \"spherical\" ;\r\n",
      "\t\t:Metadata_Conventions = \"Climate and Forecast (CF) 1.7, Attribute Convention for Data Discovery (ACDD) 1.3\" ;\r\n",
      "\t\t:standard_name_vocabulary = \"NetCDF Climate and Forecast (CF) Metadata Convention version 1.8\" ;\r\n",
      "\t\t:title = \"North Atlantic 2D horizontal drift of continuous Oil spill for ESA WOC project\" ;\r\n",
      "\t\t:summary = \"This dataset contains the positions of virtual particles released starting on 10/09/2011 and re-released every 3h. Simulations are done at 0m representing the trajectories of oil in the North Atlantic.\" ;\r\n",
      "\t\t:id = \"WOC-L4-CURlag-NATL_OIL_SPILL_DRIFT_1H_CONT\" ;\r\n",
      "\t\t:institution = \"Utrecht University, Institut Francais de Recherche pour l\\'Exploitation de la mer / CERSAT, European Space Agency\" ;\r\n",
      "\t\t:institution_abbreviation = \"Utrecht University, Ifremer/Cersat, ESA\" ;\r\n",
      "\t\t:references = \"Delandmeter, P., & Sebille, E. V. The Parcels v2. 0 Lagrangian framework: new field interpolation schemes. Geoscientific Model Development 2019, vol. 12, No. 8, 3571-3584. https://doi.org/10.5194/gmd-12-3571-2019.\" ;\r\n",
      "\t\t:product_version = \"1.0\" ;\r\n",
      "\t\t:keywords = \"Earth Science > Oceans > Ocean Circulation > Ocean Currents\" ;\r\n",
      "\t\t:keywords_vocabulary = \"NASA Global Change Master Directory (GCMD) Science Keywords\" ;\r\n",
      "\t\t:naming_authority = \"fr.ifremer.cersat\" ;\r\n",
      "\t\t:cdm_data_type = \"trajectory\" ;\r\n",
      "\t\t:comment = \"These data were produced at IMAU, Utrecht University (Netherlands) as part of the ESA WOC project.\" ;\r\n",
      "\t\t:creator = \"Laura Gomez Navarro\" ;\r\n",
      "\t\t:creator_url = \"https://oceanparcels.org/\" ;\r\n",
      "\t\t:creator_email = \"l.gomeznavarro@uu.nl\" ;\r\n",
      "\t\t:creator_institution = \"IMAU, Utrecht University\" ;\r\n",
      "\t\t:project = \"World Ocean Circulation (WOC) - European Space Agency\" ;\r\n",
      "\t\t:time_coverage_start = \"2011-09-10T00:00:00\" ;\r\n",
      "\t\t:time_coverage_end = \"2011-09-24T00:00:00\" ;\r\n",
      "\t\t:geospatial_lat_min = 48. ;\r\n",
      "\t\t:geospatial_lat_max = 80. ;\r\n",
      "\t\t:geospatial_lat_units = \"degree_north\" ;\r\n",
      "\t\t:geospatial_lon_min = -75. ;\r\n",
      "\t\t:geospatial_lon_max = 20. ;\r\n",
      "\t\t:geospatial_lon_units = \"degree_east\" ;\r\n",
      "\t\t:geospatial_vertical_min = \"0\" ;\r\n",
      "\t\t:geospatial_vertical_max = \"0\" ;\r\n",
      "\t\t:geospatial_vertical_units = \"meters below mean sea level\" ;\r\n",
      "\t\t:geospatial_vertical_positive = \"down\" ;\r\n",
      "\t\t:license = \"ESA WOC Data Policy: free and open access\" ;\r\n",
      "\t\t:netcdf_version_id = \"4.6.1 of May 13 2018 11:35:43 $\" ;\r\n",
      "\t\t:acknowledgement = \"Please acknowledge the use of these data with the following statement: these data were obtained from the ESA WOC project\" ;\r\n",
      "\t\t:format_version = \"WOC v1.0\" ;\r\n",
      "\t\t:processing_level = \"L4\" ;\r\n",
      "\t\t:method = \"2D lagrangian advection using Runge-Kutta4 and executed using the OceanParcels framework\" ;\r\n",
      "\t\t:track_id = \"2baf25e4-9d09-48aa-992b-60004960ebab\" ;\r\n",
      "\t\t:publisher_name = \"CERSAT\" ;\r\n",
      "\t\t:publisher_url = \"cersat.ifremer.fr\" ;\r\n",
      "\t\t:publisher_email = \"cersat@ifremer.fr\" ;\r\n",
      "\t\t:publisher_institution = \"Ifremer / CERSAT\" ;\r\n",
      "\t\t:scientific_support_contact = \"l.gomeznavarro@uu.nl\" ;\r\n",
      "\t\t:technical_support_contact = \"cersat@ifremer.fr\" ;\r\n",
      "\t\t:key_variables = \"eastward_eulerian_current_velocity, westward_eulerian_current_velocity\" ;\r\n",
      "\t\t:date_created = \"2021-06-02T14:34:41\" ;\r\n",
      "\t\t:date_modified = \"2021-06-02T14:34:41\" ;\r\n",
      "\t\t:source_version = \"2.2.2.dev126+g6dd05b7\" ;\r\n",
      "\t\t:history = \"2021-06-02 14:34:41 - Creation\" ;\r\n",
      "\t\t:input = \"runWOC_NATL_4lb_v1_201109*.nc\" ;\r\n",
      "\t\t:processing_software = \"parcels\" ;\r\n",
      "\t\t:_NCProperties = \"version=2,netcdf=4.6.3,hdf5=1.10.4\" ;\r\n",
      "}\r\n"
     ]
    }
   ],
   "source": [
    "!ncdump -h /data/oceanparcels/output_data/data_LauraGN/outputs_parcels/WOC/Oil/20110910000000-WOC-L4-CURlag-NATL_oil_spill_drift_1H_00m_continuous-v1.0-fv1.0.nc"
   ]
  },
  {
   "cell_type": "code",
   "execution_count": 17,
   "metadata": {},
   "outputs": [],
   "source": [
    "ds = xr.open_dataset(outdir + \"20110910000000-WOC-L4-CURlag-NATL_oil_spill_drift_1H_00m_continuous-v1.0-fv1.0.nc\")\n"
   ]
  },
  {
   "cell_type": "code",
   "execution_count": 18,
   "metadata": {
    "scrolled": true
   },
   "outputs": [
    {
     "data": {
      "text/plain": [
       "<xarray.Dataset>\n",
       "Dimensions:     (obs: 337, traj: 2260)\n",
       "Dimensions without coordinates: obs, traj\n",
       "Data variables:\n",
       "    trajectory  (traj, obs) float64 ...\n",
       "    time        (traj, obs) datetime64[ns] ...\n",
       "    lat         (traj, obs) float32 ...\n",
       "    lon         (traj, obs) float32 ...\n",
       "    z           (traj, obs) float32 ...\n",
       "Attributes:\n",
       "    feature_type:                  trajectory\n",
       "    Conventions:                   CF-1.7, ACDD-1.3, ISO 8601\n",
       "    ncei_template_version:         NCEI_NetCDF_Trajectory_Template_v2.0\n",
       "    parcels_version:               2.2.2.dev126+g6dd05b7\n",
       "    parcels_mesh:                  spherical\n",
       "    Metadata_Conventions:          Climate and Forecast (CF) 1.7, Attribute C...\n",
       "    standard_name_vocabulary:      NetCDF Climate and Forecast (CF) Metadata ...\n",
       "    title:                         North Atlantic 2D horizontal drift of cont...\n",
       "    summary:                       This dataset contains the positions of vir...\n",
       "    id:                            WOC-L4-CURlag-NATL_OIL_SPILL_DRIFT_1H_CONT\n",
       "    institution:                   Utrecht University, Institut Francais de R...\n",
       "    institution_abbreviation:      Utrecht University, Ifremer/Cersat, ESA\n",
       "    references:                    Delandmeter, P., & Sebille, E. V. The Parc...\n",
       "    product_version:               1.0\n",
       "    keywords:                      Earth Science > Oceans > Ocean Circulation...\n",
       "    keywords_vocabulary:           NASA Global Change Master Directory (GCMD)...\n",
       "    naming_authority:              fr.ifremer.cersat\n",
       "    cdm_data_type:                 trajectory\n",
       "    comment:                       These data were produced at IMAU, Utrecht ...\n",
       "    creator:                       Laura Gomez Navarro\n",
       "    creator_url:                   https://oceanparcels.org/\n",
       "    creator_email:                 l.gomeznavarro@uu.nl\n",
       "    creator_institution:           IMAU, Utrecht University\n",
       "    project:                       World Ocean Circulation (WOC) - European S...\n",
       "    time_coverage_start:           2011-09-10T00:00:00\n",
       "    time_coverage_end:             2011-09-24T00:00:00\n",
       "    geospatial_lat_min:            48.0\n",
       "    geospatial_lat_max:            80.0\n",
       "    geospatial_lat_units:          degree_north\n",
       "    geospatial_lon_min:            -75.0\n",
       "    geospatial_lon_max:            20.0\n",
       "    geospatial_lon_units:          degree_east\n",
       "    geospatial_vertical_min:       0\n",
       "    geospatial_vertical_max:       0\n",
       "    geospatial_vertical_units:     meters below mean sea level\n",
       "    geospatial_vertical_positive:  down\n",
       "    license:                       ESA WOC Data Policy: free and open access\n",
       "    netcdf_version_id:             4.6.1 of May 13 2018 11:35:43 $\n",
       "    acknowledgement:               Please acknowledge the use of these data w...\n",
       "    format_version:                WOC v1.0\n",
       "    processing_level:              L4\n",
       "    method:                        2D lagrangian advection using Runge-Kutta4...\n",
       "    track_id:                      2baf25e4-9d09-48aa-992b-60004960ebab\n",
       "    publisher_name:                CERSAT\n",
       "    publisher_url:                 cersat.ifremer.fr\n",
       "    publisher_email:               cersat@ifremer.fr\n",
       "    publisher_institution:         Ifremer / CERSAT\n",
       "    scientific_support_contact:    l.gomeznavarro@uu.nl\n",
       "    technical_support_contact:     cersat@ifremer.fr\n",
       "    key_variables:                 eastward_eulerian_current_velocity, westwa...\n",
       "    date_created:                  2021-06-02T14:34:41\n",
       "    date_modified:                 2021-06-02T14:34:41\n",
       "    source_version:                2.2.2.dev126+g6dd05b7\n",
       "    history:                       2021-06-02 14:34:41 - Creation\n",
       "    input:                         runWOC_NATL_4lb_v1_201109*.nc\n",
       "    processing_software:           parcels"
      ]
     },
     "execution_count": 18,
     "metadata": {},
     "output_type": "execute_result"
    }
   ],
   "source": [
    "ds"
   ]
  },
  {
   "cell_type": "markdown",
   "metadata": {},
   "source": [
    "# 4.1 Plotting:"
   ]
  },
  {
   "cell_type": "code",
   "execution_count": 19,
   "metadata": {},
   "outputs": [
    {
     "data": {
      "image/png": "[encoded data removed]",
      "text/plain": [
       "<Figure size 432x720 with 1 Axes>"
      ]
     },
     "metadata": {
      "needs_background": "light"
     },
     "output_type": "display_data"
    }
   ],
   "source": [
    "plt.figure(figsize=(6,10)) #(17,5)\n",
    "\n",
    "ax1 = plt.subplot(111, projection=ccrs.PlateCarree())\n",
    "ax1.coastlines(resolution='50m')\n",
    "#ax1.add_feature(cartopy.feature.LAND, facecolor='black')\n",
    "ax1.scatter(ds['lon'], ds['lat'], s=1, transform=ccrs.PlateCarree()) #marker='o'\n",
    "ax1.set_xlim([4, 10])\n",
    "ax1.set_ylim([52, 59])\n",
    "gl = ax1.gridlines(crs=ccrs.PlateCarree(), draw_labels=True)\n",
    "gl.xlabels_top = False\n",
    "gl.ylabels_right = False\n",
    "#gl.ylocator = mticker.FixedLocator([0, 5, 10, 15, 20, 25, 30, 35])\n",
    "gl.xformatter = LONGITUDE_FORMATTER\n",
    "gl.yformatter = LATITUDE_FORMATTER\n",
    "\n",
    "plt.show()\n",
    "plt.close()"
   ]
  },
  {
   "cell_type": "code",
   "execution_count": null,
   "metadata": {},
   "outputs": [],
   "source": [
    "plt.figure(figsize=(6,10)) #(17,5)\n",
    "\n",
    "ax1 = plt.subplot(111, projection=ccrs.PlateCarree())\n",
    "ax1.coastlines(resolution='50m')\n",
    "#ax1.add_feature(cartopy.feature.LAND, facecolor='black')\n",
    "ax1.plot(ds['lon'].T, ds['lat'].T, '-', linewidth=1, transform=ccrs.PlateCarree()) #marker='o'\n",
    "ax1.set_xlim([6.5, 10])\n",
    "ax1.set_ylim([54.5, 58])\n",
    "gl = ax1.gridlines(crs=ccrs.PlateCarree(), draw_labels=True)\n",
    "gl.xlabels_top = False\n",
    "gl.ylabels_right = False\n",
    "#gl.ylocator = mticker.FixedLocator([0, 5, 10, 15, 20, 25, 30, 35])\n",
    "gl.xformatter = LONGITUDE_FORMATTER\n",
    "gl.yformatter = LATITUDE_FORMATTER\n",
    "\n",
    "plt.show()\n",
    "plt.close()"
   ]
  },
  {
   "cell_type": "markdown",
   "metadata": {},
   "source": [
    "# --> seems to follow bathymetry : https://images.app.goo.gl/6oAd4RHiyZB5Pysa7"
   ]
  },
  {
   "cell_type": "markdown",
   "metadata": {},
   "source": [
    "### 4.1.1 Plot with velocity data below:"
   ]
  },
  {
   "cell_type": "code",
   "execution_count": 5,
   "metadata": {},
   "outputs": [
    {
     "name": "stderr",
     "output_type": "stream",
     "text": [
      "/usr/local/lib/python3.6/site-packages/ipykernel_launcher.py:1: FutureWarning: In xarray version 0.15 the default behaviour of `open_mfdataset`\n",
      "will change. To retain the existing behavior, pass\n",
      "combine='nested'. To use future default behavior, pass\n",
      "combine='by_coords'. See\n",
      "http://xarray.pydata.org/en/stable/combining.html#combining-multi\n",
      "\n",
      "  \"\"\"Entry point for launching an IPython kernel.\n",
      "/usr/local/lib/python3.6/site-packages/xarray/backends/api.py:931: FutureWarning: The datasets supplied have global dimension coordinates. You may want\n",
      "to use the new `combine_by_coords` function (or the\n",
      "`combine='by_coords'` option to `open_mfdataset`) to order the datasets\n",
      "before concatenation. Alternatively, to continue concatenating based\n",
      "on the order the datasets are supplied in future, please use the new\n",
      "`combine_nested` function (or the `combine='nested'` option to\n",
      "open_mfdataset).\n",
      "  from_openmfds=True,\n"
     ]
    }
   ],
   "source": [
    "ds_vel = xr.open_mfdataset(data_path_v01 + fname_v01)"
   ]
  },
  {
   "cell_type": "code",
   "execution_count": null,
   "metadata": {},
   "outputs": [],
   "source": [
    "plt.figure(figsize=(10,10)) #(17,5)\n",
    "\n",
    "ax1 = plt.subplot(111, projection=ccrs.PlateCarree())\n",
    "ax1.coastlines(resolution='50m')\n",
    "\n",
    "ds_vel.utot[216,1,:,:].plot(ax=ax1)\n",
    "\n",
    "ax1.plot(ds['lon'].T, ds['lat'].T, '-b', linewidth=1, transform=ccrs.PlateCarree()) #marker='o'\n",
    "ax1.plot(ds['lon'][:,0], ds['lat'][:,0], '.b', linewidth=1, transform=ccrs.PlateCarree()) #marker='o'\n",
    "\n",
    "ax1.set_xlim([6.5, 10])\n",
    "ax1.set_ylim([54.5, 58])\n",
    "gl = ax1.gridlines(crs=ccrs.PlateCarree(), draw_labels=True)\n",
    "gl.xlabels_top = False\n",
    "gl.ylabels_right = False\n",
    "#gl.ylocator = mticker.FixedLocator([0, 5, 10, 15, 20, 25, 30, 35])\n",
    "gl.xformatter = LONGITUDE_FORMATTER\n",
    "gl.yformatter = LATITUDE_FORMATTER\n"
   ]
  },
  {
   "cell_type": "markdown",
   "metadata": {},
   "source": [
    "# --> particles cross land??"
   ]
  },
  {
   "cell_type": "code",
   "execution_count": 1,
   "metadata": {},
   "outputs": [
    {
     "ename": "NameError",
     "evalue": "name 'plt' is not defined",
     "output_type": "error",
     "traceback": [
      "\u001b[0;31m---------------------------------------------------------------------------\u001b[0m",
      "\u001b[0;31mNameError\u001b[0m                                 Traceback (most recent call last)",
      "\u001b[0;32m<ipython-input-1-ee7490028bed>\u001b[0m in \u001b[0;36m<module>\u001b[0;34m\u001b[0m\n\u001b[0;32m----> 1\u001b[0;31m \u001b[0mplt\u001b[0m\u001b[0;34m.\u001b[0m\u001b[0mfigure\u001b[0m\u001b[0;34m(\u001b[0m\u001b[0mfigsize\u001b[0m\u001b[0;34m=\u001b[0m\u001b[0;34m(\u001b[0m\u001b[0;36m10\u001b[0m\u001b[0;34m,\u001b[0m\u001b[0;36m10\u001b[0m\u001b[0;34m)\u001b[0m\u001b[0;34m)\u001b[0m \u001b[0;31m#(17,5)\u001b[0m\u001b[0;34m\u001b[0m\u001b[0;34m\u001b[0m\u001b[0m\n\u001b[0m\u001b[1;32m      2\u001b[0m \u001b[0;34m\u001b[0m\u001b[0m\n\u001b[1;32m      3\u001b[0m \u001b[0max1\u001b[0m \u001b[0;34m=\u001b[0m \u001b[0mplt\u001b[0m\u001b[0;34m.\u001b[0m\u001b[0msubplot\u001b[0m\u001b[0;34m(\u001b[0m\u001b[0;36m111\u001b[0m\u001b[0;34m,\u001b[0m \u001b[0mprojection\u001b[0m\u001b[0;34m=\u001b[0m\u001b[0mccrs\u001b[0m\u001b[0;34m.\u001b[0m\u001b[0mPlateCarree\u001b[0m\u001b[0;34m(\u001b[0m\u001b[0;34m)\u001b[0m\u001b[0;34m)\u001b[0m\u001b[0;34m\u001b[0m\u001b[0;34m\u001b[0m\u001b[0m\n\u001b[1;32m      4\u001b[0m \u001b[0max1\u001b[0m\u001b[0;34m.\u001b[0m\u001b[0mcoastlines\u001b[0m\u001b[0;34m(\u001b[0m\u001b[0mresolution\u001b[0m\u001b[0;34m=\u001b[0m\u001b[0;34m'50m'\u001b[0m\u001b[0;34m)\u001b[0m\u001b[0;34m\u001b[0m\u001b[0;34m\u001b[0m\u001b[0m\n\u001b[1;32m      5\u001b[0m \u001b[0;34m\u001b[0m\u001b[0m\n",
      "\u001b[0;31mNameError\u001b[0m: name 'plt' is not defined"
     ]
    }
   ],
   "source": [
    "plt.figure(figsize=(10,10)) #(17,5)\n",
    "\n",
    "ax1 = plt.subplot(111, projection=ccrs.PlateCarree())\n",
    "ax1.coastlines(resolution='50m')\n",
    "\n",
    "ds_vel.vtot[216,1,:,:].plot(ax=ax1)\n",
    "\n",
    "ax1.plot(ds['lon'].T, ds['lat'].T, '-b', linewidth=1, transform=ccrs.PlateCarree()) #marker='o'\n",
    "ax1.plot(ds['lon'][:,0], ds['lat'][:,0], '.b', linewidth=1, transform=ccrs.PlateCarree()) #marker='o'\n",
    "\n",
    "ax1.set_xlim([6.5, 10])\n",
    "ax1.set_ylim([54.5, 58])\n",
    "gl = ax1.gridlines(crs=ccrs.PlateCarree(), draw_labels=True)\n",
    "gl.xlabels_top = False\n",
    "gl.ylabels_right = False\n",
    "#gl.ylocator = mticker.FixedLocator([0, 5, 10, 15, 20, 25, 30, 35])\n",
    "gl.xformatter = LONGITUDE_FORMATTER\n",
    "gl.yformatter = LATITUDE_FORMATTER\n",
    "\n"
   ]
  },
  {
   "cell_type": "code",
   "execution_count": null,
   "metadata": {},
   "outputs": [],
   "source": []
  }
 ],
 "metadata": {
  "kernelspec": {
   "display_name": "Python 3",
   "language": "python",
   "name": "python3"
  },
  "language_info": {
   "codemirror_mode": {
    "name": "ipython",
    "version": 3
   },
   "file_extension": ".py",
   "mimetype": "text/x-python",
   "name": "python",
   "nbconvert_exporter": "python",
   "pygments_lexer": "ipython3",
   "version": "3.6.8"
  }
 },
 "nbformat": 4,
 "nbformat_minor": 2
}

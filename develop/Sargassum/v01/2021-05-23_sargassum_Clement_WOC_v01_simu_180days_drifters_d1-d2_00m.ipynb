{
 "cells": [
  {
   "cell_type": "markdown",
   "metadata": {},
   "source": [
    "# Description"
   ]
  },
  {
   "cell_type": "code",
   "execution_count": 1,
   "metadata": {},
   "outputs": [
    {
     "name": "stdout",
     "output_type": "stream",
     "text": [
      "Populating the interactive namespace from numpy and matplotlib\n"
     ]
    }
   ],
   "source": [
    "%pylab inline\n",
    "from parcels import FieldSet, ParticleSet, JITParticle, Variable, AdvectionRK4, ErrorCode\n",
    "import numpy as np\n",
    "import xarray as xr\n",
    "from datetime import timedelta, datetime, timezone\n",
    "import matplotlib.pyplot as plt\n",
    "from collections import defaultdict\n",
    "import pandas as pd\n",
    "from netCDF4 import num2date, date2num"
   ]
  },
  {
   "cell_type": "code",
   "execution_count": 2,
   "metadata": {},
   "outputs": [],
   "source": [
    "from glob import glob\n",
    "from matplotlib.animation import FuncAnimation\n",
    "from IPython.display import HTML\n",
    "from matplotlib import colors \n",
    "\n",
    "import cartopy\n",
    "import cartopy.crs as ccrs\n",
    "from cartopy.mpl.gridliner import LONGITUDE_FORMATTER, LATITUDE_FORMATTER\n"
   ]
  },
  {
   "cell_type": "markdown",
   "metadata": {},
   "source": [
    "# 1. Loading the input data for the releasing locations\""
   ]
  },
  {
   "cell_type": "markdown",
   "metadata": {},
   "source": [
    "## 1.1 Data from Miron et al (2020)\n",
    "Data (launch locations):\n",
    "http://localhost:8892/notebooks/parcels_WOC/Atl_tropics/2021-05-14_sargassum_loading_Miron_ini.ipynb"
   ]
  },
  {
   "cell_type": "code",
   "execution_count": 3,
   "metadata": {},
   "outputs": [],
   "source": [
    "data_Miron = np.load('/science-nfs-sys/vsm01/users/gomez023/parcels_WOC/Atl_tropics/Miron_type-0-1-6_d1-d2_ini.npz')"
   ]
  },
  {
   "cell_type": "code",
   "execution_count": 4,
   "metadata": {},
   "outputs": [],
   "source": [
    "launch_lons = data_Miron[\"launch_lons\"]\n",
    "launch_lats = data_Miron[\"launch_lats\"]\n",
    "launch_times = data_Miron[\"launch_times\"]\n",
    "launch_ids = data_Miron[\"launch_ids\"]"
   ]
  },
  {
   "cell_type": "markdown",
   "metadata": {},
   "source": [
    "## Launch dates:"
   ]
  },
  {
   "cell_type": "code",
   "execution_count": 5,
   "metadata": {},
   "outputs": [],
   "source": [
    "nyears = [2018] #05, 2006, 2007, 2008, 2009, 2010]"
   ]
  },
  {
   "cell_type": "code",
   "execution_count": 6,
   "metadata": {},
   "outputs": [],
   "source": [
    "nyear = nyears[0]"
   ]
  },
  {
   "cell_type": "code",
   "execution_count": 7,
   "metadata": {
    "scrolled": true
   },
   "outputs": [
    {
     "name": "stdout",
     "output_type": "stream",
     "text": [
      "2018-03-12 06:59:59\n",
      "2018-03-12 07:01:00\n",
      "2018-03-12 06:41:00\n",
      "2018-03-11 12:00:00\n",
      "2018-03-11 12:00:00\n",
      "2018-03-16 19:16:00\n",
      "2018-03-16 19:13:00\n",
      "2018-03-16 19:16:00\n",
      "2018-03-16 11:00:00\n",
      "2018-03-23 09:59:59\n"
     ]
    }
   ],
   "source": [
    "#launch_times_datetime = launch_times.copy()\n",
    "for tt in range(0, len(launch_times)):\n",
    "    print(datetime.strptime(launch_times[tt], '%Y-%m-%d %H:%M:%S'))\n",
    "    #launch_times_datetime[tt] = datetime.strptime(launch_times[tt], '%Y-%m-%d %H:%M:%S')"
   ]
  },
  {
   "cell_type": "code",
   "execution_count": 8,
   "metadata": {},
   "outputs": [],
   "source": [
    "launch_times[0] = '2018-03-12 07:00:00'\n",
    "launch_times[-1] = '2018-03-23 10:00:00'"
   ]
  },
  {
   "cell_type": "code",
   "execution_count": 9,
   "metadata": {},
   "outputs": [
    {
     "data": {
      "text/plain": [
       "array(['2018-03-12 07:00:00', '2018-03-12 07:01:00',\n",
       "       '2018-03-12 06:41:00', '2018-03-11 12:00:00',\n",
       "       '2018-03-11 12:00:00', '2018-03-16 19:16:00',\n",
       "       '2018-03-16 19:13:00', '2018-03-16 19:16:00',\n",
       "       '2018-03-16 11:00:00', '2018-03-23 10:00:00'], dtype='<U19')"
      ]
     },
     "execution_count": 9,
     "metadata": {},
     "output_type": "execute_result"
    }
   ],
   "source": [
    "launch_times"
   ]
  },
  {
   "cell_type": "markdown",
   "metadata": {},
   "source": [
    "# 2. Setting the velocity fields in a FieldSet object"
   ]
  },
  {
   "cell_type": "markdown",
   "metadata": {},
   "source": [
    "(using surface layer indices (depth 0 )"
   ]
  },
  {
   "cell_type": "code",
   "execution_count": 10,
   "metadata": {},
   "outputs": [],
   "source": [
    "data_path = '/data/oceanparcels/input_data/ESA_WorldOceanCirculation/TropicalAtlantic/' \n",
    "\n",
    "fname = 'runWOC_TATL_v1_' + str(nyear) + '*.nc' #'GlobCurrent_example_data/*0[7-8].nc'\n"
   ]
  },
  {
   "cell_type": "code",
   "execution_count": 11,
   "metadata": {},
   "outputs": [
    {
     "name": "stdout",
     "output_type": "stream",
     "text": [
      "/data/oceanparcels/input_data/ESA_WorldOceanCirculation/TropicalAtlantic/runWOC_TATL_v1_20180301.nc\r\n",
      "/data/oceanparcels/input_data/ESA_WorldOceanCirculation/TropicalAtlantic/runWOC_TATL_v1_20180302.nc\r\n",
      "/data/oceanparcels/input_data/ESA_WorldOceanCirculation/TropicalAtlantic/runWOC_TATL_v1_20180303.nc\r\n",
      "/data/oceanparcels/input_data/ESA_WorldOceanCirculation/TropicalAtlantic/runWOC_TATL_v1_20180304.nc\r\n",
      "/data/oceanparcels/input_data/ESA_WorldOceanCirculation/TropicalAtlantic/runWOC_TATL_v1_20180305.nc\r\n",
      "/data/oceanparcels/input_data/ESA_WorldOceanCirculation/TropicalAtlantic/runWOC_TATL_v1_20180306.nc\r\n",
      "/data/oceanparcels/input_data/ESA_WorldOceanCirculation/TropicalAtlantic/runWOC_TATL_v1_20180307.nc\r\n",
      "/data/oceanparcels/input_data/ESA_WorldOceanCirculation/TropicalAtlantic/runWOC_TATL_v1_20180308.nc\r\n",
      "/data/oceanparcels/input_data/ESA_WorldOceanCirculation/TropicalAtlantic/runWOC_TATL_v1_20180309.nc\r\n",
      "/data/oceanparcels/input_data/ESA_WorldOceanCirculation/TropicalAtlantic/runWOC_TATL_v1_20180310.nc\r\n",
      "/data/oceanparcels/input_data/ESA_WorldOceanCirculation/TropicalAtlantic/runWOC_TATL_v1_20180311.nc\r\n",
      "/data/oceanparcels/input_data/ESA_WorldOceanCirculation/TropicalAtlantic/runWOC_TATL_v1_20180312.nc\r\n",
      "/data/oceanparcels/input_data/ESA_WorldOceanCirculation/TropicalAtlantic/runWOC_TATL_v1_20180313.nc\r\n",
      "/data/oceanparcels/input_data/ESA_WorldOceanCirculation/TropicalAtlantic/runWOC_TATL_v1_20180314.nc\r\n",
      "/data/oceanparcels/input_data/ESA_WorldOceanCirculation/TropicalAtlantic/runWOC_TATL_v1_20180315.nc\r\n",
      "/data/oceanparcels/input_data/ESA_WorldOceanCirculation/TropicalAtlantic/runWOC_TATL_v1_20180316.nc\r\n",
      "/data/oceanparcels/input_data/ESA_WorldOceanCirculation/TropicalAtlantic/runWOC_TATL_v1_20180317.nc\r\n",
      "/data/oceanparcels/input_data/ESA_WorldOceanCirculation/TropicalAtlantic/runWOC_TATL_v1_20180318.nc\r\n",
      "/data/oceanparcels/input_data/ESA_WorldOceanCirculation/TropicalAtlantic/runWOC_TATL_v1_20180319.nc\r\n",
      "/data/oceanparcels/input_data/ESA_WorldOceanCirculation/TropicalAtlantic/runWOC_TATL_v1_20180320.nc\r\n",
      "/data/oceanparcels/input_data/ESA_WorldOceanCirculation/TropicalAtlantic/runWOC_TATL_v1_20180321.nc\r\n",
      "/data/oceanparcels/input_data/ESA_WorldOceanCirculation/TropicalAtlantic/runWOC_TATL_v1_20180322.nc\r\n",
      "/data/oceanparcels/input_data/ESA_WorldOceanCirculation/TropicalAtlantic/runWOC_TATL_v1_20180323.nc\r\n",
      "/data/oceanparcels/input_data/ESA_WorldOceanCirculation/TropicalAtlantic/runWOC_TATL_v1_20180324.nc\r\n",
      "/data/oceanparcels/input_data/ESA_WorldOceanCirculation/TropicalAtlantic/runWOC_TATL_v1_20180325.nc\r\n",
      "/data/oceanparcels/input_data/ESA_WorldOceanCirculation/TropicalAtlantic/runWOC_TATL_v1_20180326.nc\r\n",
      "/data/oceanparcels/input_data/ESA_WorldOceanCirculation/TropicalAtlantic/runWOC_TATL_v1_20180327.nc\r\n",
      "/data/oceanparcels/input_data/ESA_WorldOceanCirculation/TropicalAtlantic/runWOC_TATL_v1_20180328.nc\r\n",
      "/data/oceanparcels/input_data/ESA_WorldOceanCirculation/TropicalAtlantic/runWOC_TATL_v1_20180329.nc\r\n",
      "/data/oceanparcels/input_data/ESA_WorldOceanCirculation/TropicalAtlantic/runWOC_TATL_v1_20180330.nc\r\n",
      "/data/oceanparcels/input_data/ESA_WorldOceanCirculation/TropicalAtlantic/runWOC_TATL_v1_20180331.nc\r\n",
      "/data/oceanparcels/input_data/ESA_WorldOceanCirculation/TropicalAtlantic/runWOC_TATL_v1_20180401.nc\r\n",
      "/data/oceanparcels/input_data/ESA_WorldOceanCirculation/TropicalAtlantic/runWOC_TATL_v1_20180402.nc\r\n",
      "/data/oceanparcels/input_data/ESA_WorldOceanCirculation/TropicalAtlantic/runWOC_TATL_v1_20180403.nc\r\n",
      "/data/oceanparcels/input_data/ESA_WorldOceanCirculation/TropicalAtlantic/runWOC_TATL_v1_20180404.nc\r\n",
      "/data/oceanparcels/input_data/ESA_WorldOceanCirculation/TropicalAtlantic/runWOC_TATL_v1_20180405.nc\r\n",
      "/data/oceanparcels/input_data/ESA_WorldOceanCirculation/TropicalAtlantic/runWOC_TATL_v1_20180406.nc\r\n",
      "/data/oceanparcels/input_data/ESA_WorldOceanCirculation/TropicalAtlantic/runWOC_TATL_v1_20180407.nc\r\n",
      "/data/oceanparcels/input_data/ESA_WorldOceanCirculation/TropicalAtlantic/runWOC_TATL_v1_20180408.nc\r\n",
      "/data/oceanparcels/input_data/ESA_WorldOceanCirculation/TropicalAtlantic/runWOC_TATL_v1_20180409.nc\r\n",
      "/data/oceanparcels/input_data/ESA_WorldOceanCirculation/TropicalAtlantic/runWOC_TATL_v1_20180410.nc\r\n",
      "/data/oceanparcels/input_data/ESA_WorldOceanCirculation/TropicalAtlantic/runWOC_TATL_v1_20180411.nc\r\n",
      "/data/oceanparcels/input_data/ESA_WorldOceanCirculation/TropicalAtlantic/runWOC_TATL_v1_20180412.nc\r\n",
      "/data/oceanparcels/input_data/ESA_WorldOceanCirculation/TropicalAtlantic/runWOC_TATL_v1_20180413.nc\r\n",
      "/data/oceanparcels/input_data/ESA_WorldOceanCirculation/TropicalAtlantic/runWOC_TATL_v1_20180414.nc\r\n",
      "/data/oceanparcels/input_data/ESA_WorldOceanCirculation/TropicalAtlantic/runWOC_TATL_v1_20180415.nc\r\n",
      "/data/oceanparcels/input_data/ESA_WorldOceanCirculation/TropicalAtlantic/runWOC_TATL_v1_20180416.nc\r\n",
      "/data/oceanparcels/input_data/ESA_WorldOceanCirculation/TropicalAtlantic/runWOC_TATL_v1_20180417.nc\r\n",
      "/data/oceanparcels/input_data/ESA_WorldOceanCirculation/TropicalAtlantic/runWOC_TATL_v1_20180418.nc\r\n",
      "/data/oceanparcels/input_data/ESA_WorldOceanCirculation/TropicalAtlantic/runWOC_TATL_v1_20180419.nc\r\n",
      "/data/oceanparcels/input_data/ESA_WorldOceanCirculation/TropicalAtlantic/runWOC_TATL_v1_20180420.nc\r\n",
      "/data/oceanparcels/input_data/ESA_WorldOceanCirculation/TropicalAtlantic/runWOC_TATL_v1_20180421.nc\r\n",
      "/data/oceanparcels/input_data/ESA_WorldOceanCirculation/TropicalAtlantic/runWOC_TATL_v1_20180422.nc\r\n",
      "/data/oceanparcels/input_data/ESA_WorldOceanCirculation/TropicalAtlantic/runWOC_TATL_v1_20180423.nc\r\n",
      "/data/oceanparcels/input_data/ESA_WorldOceanCirculation/TropicalAtlantic/runWOC_TATL_v1_20180424.nc\r\n",
      "/data/oceanparcels/input_data/ESA_WorldOceanCirculation/TropicalAtlantic/runWOC_TATL_v1_20180425.nc\r\n",
      "/data/oceanparcels/input_data/ESA_WorldOceanCirculation/TropicalAtlantic/runWOC_TATL_v1_20180426.nc\r\n",
      "/data/oceanparcels/input_data/ESA_WorldOceanCirculation/TropicalAtlantic/runWOC_TATL_v1_20180427.nc\r\n",
      "/data/oceanparcels/input_data/ESA_WorldOceanCirculation/TropicalAtlantic/runWOC_TATL_v1_20180428.nc\r\n",
      "/data/oceanparcels/input_data/ESA_WorldOceanCirculation/TropicalAtlantic/runWOC_TATL_v1_20180429.nc\r\n",
      "/data/oceanparcels/input_data/ESA_WorldOceanCirculation/TropicalAtlantic/runWOC_TATL_v1_20180430.nc\r\n",
      "/data/oceanparcels/input_data/ESA_WorldOceanCirculation/TropicalAtlantic/runWOC_TATL_v1_20180501.nc\r\n",
      "/data/oceanparcels/input_data/ESA_WorldOceanCirculation/TropicalAtlantic/runWOC_TATL_v1_20180502.nc\r\n",
      "/data/oceanparcels/input_data/ESA_WorldOceanCirculation/TropicalAtlantic/runWOC_TATL_v1_20180503.nc\r\n",
      "/data/oceanparcels/input_data/ESA_WorldOceanCirculation/TropicalAtlantic/runWOC_TATL_v1_20180504.nc\r\n",
      "/data/oceanparcels/input_data/ESA_WorldOceanCirculation/TropicalAtlantic/runWOC_TATL_v1_20180505.nc\r\n",
      "/data/oceanparcels/input_data/ESA_WorldOceanCirculation/TropicalAtlantic/runWOC_TATL_v1_20180506.nc\r\n",
      "/data/oceanparcels/input_data/ESA_WorldOceanCirculation/TropicalAtlantic/runWOC_TATL_v1_20180507.nc\r\n",
      "/data/oceanparcels/input_data/ESA_WorldOceanCirculation/TropicalAtlantic/runWOC_TATL_v1_20180508.nc\r\n",
      "/data/oceanparcels/input_data/ESA_WorldOceanCirculation/TropicalAtlantic/runWOC_TATL_v1_20180509.nc\r\n",
      "/data/oceanparcels/input_data/ESA_WorldOceanCirculation/TropicalAtlantic/runWOC_TATL_v1_20180510.nc\r\n",
      "/data/oceanparcels/input_data/ESA_WorldOceanCirculation/TropicalAtlantic/runWOC_TATL_v1_20180511.nc\r\n",
      "/data/oceanparcels/input_data/ESA_WorldOceanCirculation/TropicalAtlantic/runWOC_TATL_v1_20180512.nc\r\n",
      "/data/oceanparcels/input_data/ESA_WorldOceanCirculation/TropicalAtlantic/runWOC_TATL_v1_20180513.nc\r\n",
      "/data/oceanparcels/input_data/ESA_WorldOceanCirculation/TropicalAtlantic/runWOC_TATL_v1_20180514.nc\r\n",
      "/data/oceanparcels/input_data/ESA_WorldOceanCirculation/TropicalAtlantic/runWOC_TATL_v1_20180515.nc\r\n",
      "/data/oceanparcels/input_data/ESA_WorldOceanCirculation/TropicalAtlantic/runWOC_TATL_v1_20180516.nc\r\n",
      "/data/oceanparcels/input_data/ESA_WorldOceanCirculation/TropicalAtlantic/runWOC_TATL_v1_20180517.nc\r\n",
      "/data/oceanparcels/input_data/ESA_WorldOceanCirculation/TropicalAtlantic/runWOC_TATL_v1_20180518.nc\r\n",
      "/data/oceanparcels/input_data/ESA_WorldOceanCirculation/TropicalAtlantic/runWOC_TATL_v1_20180519.nc\r\n",
      "/data/oceanparcels/input_data/ESA_WorldOceanCirculation/TropicalAtlantic/runWOC_TATL_v1_20180520.nc\r\n",
      "/data/oceanparcels/input_data/ESA_WorldOceanCirculation/TropicalAtlantic/runWOC_TATL_v1_20180521.nc\r\n",
      "/data/oceanparcels/input_data/ESA_WorldOceanCirculation/TropicalAtlantic/runWOC_TATL_v1_20180522.nc\r\n",
      "/data/oceanparcels/input_data/ESA_WorldOceanCirculation/TropicalAtlantic/runWOC_TATL_v1_20180523.nc\r\n",
      "/data/oceanparcels/input_data/ESA_WorldOceanCirculation/TropicalAtlantic/runWOC_TATL_v1_20180524.nc\r\n",
      "/data/oceanparcels/input_data/ESA_WorldOceanCirculation/TropicalAtlantic/runWOC_TATL_v1_20180525.nc\r\n",
      "/data/oceanparcels/input_data/ESA_WorldOceanCirculation/TropicalAtlantic/runWOC_TATL_v1_20180526.nc\r\n",
      "/data/oceanparcels/input_data/ESA_WorldOceanCirculation/TropicalAtlantic/runWOC_TATL_v1_20180527.nc\r\n",
      "/data/oceanparcels/input_data/ESA_WorldOceanCirculation/TropicalAtlantic/runWOC_TATL_v1_20180528.nc\r\n",
      "/data/oceanparcels/input_data/ESA_WorldOceanCirculation/TropicalAtlantic/runWOC_TATL_v1_20180529.nc\r\n",
      "/data/oceanparcels/input_data/ESA_WorldOceanCirculation/TropicalAtlantic/runWOC_TATL_v1_20180530.nc\r\n",
      "/data/oceanparcels/input_data/ESA_WorldOceanCirculation/TropicalAtlantic/runWOC_TATL_v1_20180531.nc\r\n",
      "/data/oceanparcels/input_data/ESA_WorldOceanCirculation/TropicalAtlantic/runWOC_TATL_v1_20180601.nc\r\n",
      "/data/oceanparcels/input_data/ESA_WorldOceanCirculation/TropicalAtlantic/runWOC_TATL_v1_20180602.nc\r\n",
      "/data/oceanparcels/input_data/ESA_WorldOceanCirculation/TropicalAtlantic/runWOC_TATL_v1_20180603.nc\r\n",
      "/data/oceanparcels/input_data/ESA_WorldOceanCirculation/TropicalAtlantic/runWOC_TATL_v1_20180604.nc\r\n",
      "/data/oceanparcels/input_data/ESA_WorldOceanCirculation/TropicalAtlantic/runWOC_TATL_v1_20180605.nc\r\n",
      "/data/oceanparcels/input_data/ESA_WorldOceanCirculation/TropicalAtlantic/runWOC_TATL_v1_20180606.nc\r\n",
      "/data/oceanparcels/input_data/ESA_WorldOceanCirculation/TropicalAtlantic/runWOC_TATL_v1_20180607.nc\r\n",
      "/data/oceanparcels/input_data/ESA_WorldOceanCirculation/TropicalAtlantic/runWOC_TATL_v1_20180608.nc\r\n",
      "/data/oceanparcels/input_data/ESA_WorldOceanCirculation/TropicalAtlantic/runWOC_TATL_v1_20180609.nc\r\n",
      "/data/oceanparcels/input_data/ESA_WorldOceanCirculation/TropicalAtlantic/runWOC_TATL_v1_20180610.nc\r\n",
      "/data/oceanparcels/input_data/ESA_WorldOceanCirculation/TropicalAtlantic/runWOC_TATL_v1_20180611.nc\r\n",
      "/data/oceanparcels/input_data/ESA_WorldOceanCirculation/TropicalAtlantic/runWOC_TATL_v1_20180612.nc\r\n",
      "/data/oceanparcels/input_data/ESA_WorldOceanCirculation/TropicalAtlantic/runWOC_TATL_v1_20180613.nc\r\n",
      "/data/oceanparcels/input_data/ESA_WorldOceanCirculation/TropicalAtlantic/runWOC_TATL_v1_20180614.nc\r\n",
      "/data/oceanparcels/input_data/ESA_WorldOceanCirculation/TropicalAtlantic/runWOC_TATL_v1_20180615.nc\r\n",
      "/data/oceanparcels/input_data/ESA_WorldOceanCirculation/TropicalAtlantic/runWOC_TATL_v1_20180616.nc\r\n",
      "/data/oceanparcels/input_data/ESA_WorldOceanCirculation/TropicalAtlantic/runWOC_TATL_v1_20180617.nc\r\n",
      "/data/oceanparcels/input_data/ESA_WorldOceanCirculation/TropicalAtlantic/runWOC_TATL_v1_20180618.nc\r\n",
      "/data/oceanparcels/input_data/ESA_WorldOceanCirculation/TropicalAtlantic/runWOC_TATL_v1_20180619.nc\r\n",
      "/data/oceanparcels/input_data/ESA_WorldOceanCirculation/TropicalAtlantic/runWOC_TATL_v1_20180620.nc\r\n",
      "/data/oceanparcels/input_data/ESA_WorldOceanCirculation/TropicalAtlantic/runWOC_TATL_v1_20180621.nc\r\n",
      "/data/oceanparcels/input_data/ESA_WorldOceanCirculation/TropicalAtlantic/runWOC_TATL_v1_20180622.nc\r\n",
      "/data/oceanparcels/input_data/ESA_WorldOceanCirculation/TropicalAtlantic/runWOC_TATL_v1_20180623.nc\r\n",
      "/data/oceanparcels/input_data/ESA_WorldOceanCirculation/TropicalAtlantic/runWOC_TATL_v1_20180624.nc\r\n",
      "/data/oceanparcels/input_data/ESA_WorldOceanCirculation/TropicalAtlantic/runWOC_TATL_v1_20180625.nc\r\n",
      "/data/oceanparcels/input_data/ESA_WorldOceanCirculation/TropicalAtlantic/runWOC_TATL_v1_20180626.nc\r\n",
      "/data/oceanparcels/input_data/ESA_WorldOceanCirculation/TropicalAtlantic/runWOC_TATL_v1_20180627.nc\r\n",
      "/data/oceanparcels/input_data/ESA_WorldOceanCirculation/TropicalAtlantic/runWOC_TATL_v1_20180628.nc\r\n",
      "/data/oceanparcels/input_data/ESA_WorldOceanCirculation/TropicalAtlantic/runWOC_TATL_v1_20180629.nc\r\n",
      "/data/oceanparcels/input_data/ESA_WorldOceanCirculation/TropicalAtlantic/runWOC_TATL_v1_20180630.nc\r\n",
      "/data/oceanparcels/input_data/ESA_WorldOceanCirculation/TropicalAtlantic/runWOC_TATL_v1_20180701.nc\r\n",
      "/data/oceanparcels/input_data/ESA_WorldOceanCirculation/TropicalAtlantic/runWOC_TATL_v1_20180702.nc\r\n",
      "/data/oceanparcels/input_data/ESA_WorldOceanCirculation/TropicalAtlantic/runWOC_TATL_v1_20180703.nc\r\n",
      "/data/oceanparcels/input_data/ESA_WorldOceanCirculation/TropicalAtlantic/runWOC_TATL_v1_20180704.nc\r\n",
      "/data/oceanparcels/input_data/ESA_WorldOceanCirculation/TropicalAtlantic/runWOC_TATL_v1_20180705.nc\r\n",
      "/data/oceanparcels/input_data/ESA_WorldOceanCirculation/TropicalAtlantic/runWOC_TATL_v1_20180706.nc\r\n",
      "/data/oceanparcels/input_data/ESA_WorldOceanCirculation/TropicalAtlantic/runWOC_TATL_v1_20180707.nc\r\n",
      "/data/oceanparcels/input_data/ESA_WorldOceanCirculation/TropicalAtlantic/runWOC_TATL_v1_20180708.nc\r\n",
      "/data/oceanparcels/input_data/ESA_WorldOceanCirculation/TropicalAtlantic/runWOC_TATL_v1_20180709.nc\r\n",
      "/data/oceanparcels/input_data/ESA_WorldOceanCirculation/TropicalAtlantic/runWOC_TATL_v1_20180710.nc\r\n",
      "/data/oceanparcels/input_data/ESA_WorldOceanCirculation/TropicalAtlantic/runWOC_TATL_v1_20180711.nc\r\n",
      "/data/oceanparcels/input_data/ESA_WorldOceanCirculation/TropicalAtlantic/runWOC_TATL_v1_20180712.nc\r\n",
      "/data/oceanparcels/input_data/ESA_WorldOceanCirculation/TropicalAtlantic/runWOC_TATL_v1_20180713.nc\r\n",
      "/data/oceanparcels/input_data/ESA_WorldOceanCirculation/TropicalAtlantic/runWOC_TATL_v1_20180714.nc\r\n",
      "/data/oceanparcels/input_data/ESA_WorldOceanCirculation/TropicalAtlantic/runWOC_TATL_v1_20180715.nc\r\n",
      "/data/oceanparcels/input_data/ESA_WorldOceanCirculation/TropicalAtlantic/runWOC_TATL_v1_20180716.nc\r\n",
      "/data/oceanparcels/input_data/ESA_WorldOceanCirculation/TropicalAtlantic/runWOC_TATL_v1_20180717.nc\r\n",
      "/data/oceanparcels/input_data/ESA_WorldOceanCirculation/TropicalAtlantic/runWOC_TATL_v1_20180718.nc\r\n",
      "/data/oceanparcels/input_data/ESA_WorldOceanCirculation/TropicalAtlantic/runWOC_TATL_v1_20180719.nc\r\n",
      "/data/oceanparcels/input_data/ESA_WorldOceanCirculation/TropicalAtlantic/runWOC_TATL_v1_20180720.nc\r\n",
      "/data/oceanparcels/input_data/ESA_WorldOceanCirculation/TropicalAtlantic/runWOC_TATL_v1_20180721.nc\r\n",
      "/data/oceanparcels/input_data/ESA_WorldOceanCirculation/TropicalAtlantic/runWOC_TATL_v1_20180722.nc\r\n",
      "/data/oceanparcels/input_data/ESA_WorldOceanCirculation/TropicalAtlantic/runWOC_TATL_v1_20180723.nc\r\n",
      "/data/oceanparcels/input_data/ESA_WorldOceanCirculation/TropicalAtlantic/runWOC_TATL_v1_20180724.nc\r\n",
      "/data/oceanparcels/input_data/ESA_WorldOceanCirculation/TropicalAtlantic/runWOC_TATL_v1_20180725.nc\r\n",
      "/data/oceanparcels/input_data/ESA_WorldOceanCirculation/TropicalAtlantic/runWOC_TATL_v1_20180726.nc\r\n",
      "/data/oceanparcels/input_data/ESA_WorldOceanCirculation/TropicalAtlantic/runWOC_TATL_v1_20180727.nc\r\n",
      "/data/oceanparcels/input_data/ESA_WorldOceanCirculation/TropicalAtlantic/runWOC_TATL_v1_20180728.nc\r\n",
      "/data/oceanparcels/input_data/ESA_WorldOceanCirculation/TropicalAtlantic/runWOC_TATL_v1_20180729.nc\r\n",
      "/data/oceanparcels/input_data/ESA_WorldOceanCirculation/TropicalAtlantic/runWOC_TATL_v1_20180730.nc\r\n",
      "/data/oceanparcels/input_data/ESA_WorldOceanCirculation/TropicalAtlantic/runWOC_TATL_v1_20180731.nc\r\n",
      "/data/oceanparcels/input_data/ESA_WorldOceanCirculation/TropicalAtlantic/runWOC_TATL_v1_20180801.nc\r\n",
      "/data/oceanparcels/input_data/ESA_WorldOceanCirculation/TropicalAtlantic/runWOC_TATL_v1_20180802.nc\r\n",
      "/data/oceanparcels/input_data/ESA_WorldOceanCirculation/TropicalAtlantic/runWOC_TATL_v1_20180803.nc\r\n",
      "/data/oceanparcels/input_data/ESA_WorldOceanCirculation/TropicalAtlantic/runWOC_TATL_v1_20180804.nc\r\n",
      "/data/oceanparcels/input_data/ESA_WorldOceanCirculation/TropicalAtlantic/runWOC_TATL_v1_20180805.nc\r\n",
      "/data/oceanparcels/input_data/ESA_WorldOceanCirculation/TropicalAtlantic/runWOC_TATL_v1_20180806.nc\r\n",
      "/data/oceanparcels/input_data/ESA_WorldOceanCirculation/TropicalAtlantic/runWOC_TATL_v1_20180807.nc\r\n",
      "/data/oceanparcels/input_data/ESA_WorldOceanCirculation/TropicalAtlantic/runWOC_TATL_v1_20180808.nc\r\n",
      "/data/oceanparcels/input_data/ESA_WorldOceanCirculation/TropicalAtlantic/runWOC_TATL_v1_20180809.nc\r\n",
      "/data/oceanparcels/input_data/ESA_WorldOceanCirculation/TropicalAtlantic/runWOC_TATL_v1_20180810.nc\r\n",
      "/data/oceanparcels/input_data/ESA_WorldOceanCirculation/TropicalAtlantic/runWOC_TATL_v1_20180811.nc\r\n",
      "/data/oceanparcels/input_data/ESA_WorldOceanCirculation/TropicalAtlantic/runWOC_TATL_v1_20180812.nc\r\n",
      "/data/oceanparcels/input_data/ESA_WorldOceanCirculation/TropicalAtlantic/runWOC_TATL_v1_20180813.nc\r\n",
      "/data/oceanparcels/input_data/ESA_WorldOceanCirculation/TropicalAtlantic/runWOC_TATL_v1_20180814.nc\r\n",
      "/data/oceanparcels/input_data/ESA_WorldOceanCirculation/TropicalAtlantic/runWOC_TATL_v1_20180815.nc\r\n",
      "/data/oceanparcels/input_data/ESA_WorldOceanCirculation/TropicalAtlantic/runWOC_TATL_v1_20180816.nc\r\n",
      "/data/oceanparcels/input_data/ESA_WorldOceanCirculation/TropicalAtlantic/runWOC_TATL_v1_20180817.nc\r\n",
      "/data/oceanparcels/input_data/ESA_WorldOceanCirculation/TropicalAtlantic/runWOC_TATL_v1_20180818.nc\r\n",
      "/data/oceanparcels/input_data/ESA_WorldOceanCirculation/TropicalAtlantic/runWOC_TATL_v1_20180819.nc\r\n",
      "/data/oceanparcels/input_data/ESA_WorldOceanCirculation/TropicalAtlantic/runWOC_TATL_v1_20180820.nc\r\n",
      "/data/oceanparcels/input_data/ESA_WorldOceanCirculation/TropicalAtlantic/runWOC_TATL_v1_20180821.nc\r\n",
      "/data/oceanparcels/input_data/ESA_WorldOceanCirculation/TropicalAtlantic/runWOC_TATL_v1_20180822.nc\r\n",
      "/data/oceanparcels/input_data/ESA_WorldOceanCirculation/TropicalAtlantic/runWOC_TATL_v1_20180823.nc\r\n",
      "/data/oceanparcels/input_data/ESA_WorldOceanCirculation/TropicalAtlantic/runWOC_TATL_v1_20180824.nc\r\n",
      "/data/oceanparcels/input_data/ESA_WorldOceanCirculation/TropicalAtlantic/runWOC_TATL_v1_20180825.nc\r\n",
      "/data/oceanparcels/input_data/ESA_WorldOceanCirculation/TropicalAtlantic/runWOC_TATL_v1_20180826.nc\r\n",
      "/data/oceanparcels/input_data/ESA_WorldOceanCirculation/TropicalAtlantic/runWOC_TATL_v1_20180827.nc\r\n",
      "/data/oceanparcels/input_data/ESA_WorldOceanCirculation/TropicalAtlantic/runWOC_TATL_v1_20180828.nc\r\n",
      "/data/oceanparcels/input_data/ESA_WorldOceanCirculation/TropicalAtlantic/runWOC_TATL_v1_20180829.nc\r\n",
      "/data/oceanparcels/input_data/ESA_WorldOceanCirculation/TropicalAtlantic/runWOC_TATL_v1_20180830.nc\r\n",
      "/data/oceanparcels/input_data/ESA_WorldOceanCirculation/TropicalAtlantic/runWOC_TATL_v1_20180831.nc\r\n",
      "/data/oceanparcels/input_data/ESA_WorldOceanCirculation/TropicalAtlantic/runWOC_TATL_v1_20180901.nc\r\n",
      "/data/oceanparcels/input_data/ESA_WorldOceanCirculation/TropicalAtlantic/runWOC_TATL_v1_20180902.nc\r\n",
      "/data/oceanparcels/input_data/ESA_WorldOceanCirculation/TropicalAtlantic/runWOC_TATL_v1_20180903.nc\r\n",
      "/data/oceanparcels/input_data/ESA_WorldOceanCirculation/TropicalAtlantic/runWOC_TATL_v1_20180904.nc\r\n",
      "/data/oceanparcels/input_data/ESA_WorldOceanCirculation/TropicalAtlantic/runWOC_TATL_v1_20180905.nc\r\n",
      "/data/oceanparcels/input_data/ESA_WorldOceanCirculation/TropicalAtlantic/runWOC_TATL_v1_20180906.nc\r\n",
      "/data/oceanparcels/input_data/ESA_WorldOceanCirculation/TropicalAtlantic/runWOC_TATL_v1_20180907.nc\r\n",
      "/data/oceanparcels/input_data/ESA_WorldOceanCirculation/TropicalAtlantic/runWOC_TATL_v1_20180908.nc\r\n",
      "/data/oceanparcels/input_data/ESA_WorldOceanCirculation/TropicalAtlantic/runWOC_TATL_v1_20180909.nc\r\n",
      "/data/oceanparcels/input_data/ESA_WorldOceanCirculation/TropicalAtlantic/runWOC_TATL_v1_20180910.nc\r\n",
      "/data/oceanparcels/input_data/ESA_WorldOceanCirculation/TropicalAtlantic/runWOC_TATL_v1_20180911.nc\r\n",
      "/data/oceanparcels/input_data/ESA_WorldOceanCirculation/TropicalAtlantic/runWOC_TATL_v1_20180912.nc\r\n",
      "/data/oceanparcels/input_data/ESA_WorldOceanCirculation/TropicalAtlantic/runWOC_TATL_v1_20180913.nc\r\n",
      "/data/oceanparcels/input_data/ESA_WorldOceanCirculation/TropicalAtlantic/runWOC_TATL_v1_20180914.nc\r\n",
      "/data/oceanparcels/input_data/ESA_WorldOceanCirculation/TropicalAtlantic/runWOC_TATL_v1_20180915.nc\r\n",
      "/data/oceanparcels/input_data/ESA_WorldOceanCirculation/TropicalAtlantic/runWOC_TATL_v1_20180916.nc\r\n",
      "/data/oceanparcels/input_data/ESA_WorldOceanCirculation/TropicalAtlantic/runWOC_TATL_v1_20180917.nc\r\n",
      "/data/oceanparcels/input_data/ESA_WorldOceanCirculation/TropicalAtlantic/runWOC_TATL_v1_20180918.nc\r\n",
      "/data/oceanparcels/input_data/ESA_WorldOceanCirculation/TropicalAtlantic/runWOC_TATL_v1_20180919.nc\r\n",
      "/data/oceanparcels/input_data/ESA_WorldOceanCirculation/TropicalAtlantic/runWOC_TATL_v1_20180920.nc\r\n",
      "/data/oceanparcels/input_data/ESA_WorldOceanCirculation/TropicalAtlantic/runWOC_TATL_v1_20180921.nc\r\n",
      "/data/oceanparcels/input_data/ESA_WorldOceanCirculation/TropicalAtlantic/runWOC_TATL_v1_20180922.nc\r\n",
      "/data/oceanparcels/input_data/ESA_WorldOceanCirculation/TropicalAtlantic/runWOC_TATL_v1_20180923.nc\r\n",
      "/data/oceanparcels/input_data/ESA_WorldOceanCirculation/TropicalAtlantic/runWOC_TATL_v1_20180924.nc\r\n",
      "/data/oceanparcels/input_data/ESA_WorldOceanCirculation/TropicalAtlantic/runWOC_TATL_v1_20180925.nc\r\n",
      "/data/oceanparcels/input_data/ESA_WorldOceanCirculation/TropicalAtlantic/runWOC_TATL_v1_20180926.nc\r\n",
      "/data/oceanparcels/input_data/ESA_WorldOceanCirculation/TropicalAtlantic/runWOC_TATL_v1_20180927.nc\r\n",
      "/data/oceanparcels/input_data/ESA_WorldOceanCirculation/TropicalAtlantic/runWOC_TATL_v1_20180928.nc\r\n",
      "/data/oceanparcels/input_data/ESA_WorldOceanCirculation/TropicalAtlantic/runWOC_TATL_v1_20180929.nc\r\n",
      "/data/oceanparcels/input_data/ESA_WorldOceanCirculation/TropicalAtlantic/runWOC_TATL_v1_20180930.nc\r\n",
      "/data/oceanparcels/input_data/ESA_WorldOceanCirculation/TropicalAtlantic/runWOC_TATL_v1_20181001.nc\r\n",
      "/data/oceanparcels/input_data/ESA_WorldOceanCirculation/TropicalAtlantic/runWOC_TATL_v1_20181002.nc\r\n",
      "/data/oceanparcels/input_data/ESA_WorldOceanCirculation/TropicalAtlantic/runWOC_TATL_v1_20181003.nc\r\n",
      "/data/oceanparcels/input_data/ESA_WorldOceanCirculation/TropicalAtlantic/runWOC_TATL_v1_20181004.nc\r\n",
      "/data/oceanparcels/input_data/ESA_WorldOceanCirculation/TropicalAtlantic/runWOC_TATL_v1_20181005.nc\r\n",
      "/data/oceanparcels/input_data/ESA_WorldOceanCirculation/TropicalAtlantic/runWOC_TATL_v1_20181006.nc\r\n",
      "/data/oceanparcels/input_data/ESA_WorldOceanCirculation/TropicalAtlantic/runWOC_TATL_v1_20181007.nc\r\n",
      "/data/oceanparcels/input_data/ESA_WorldOceanCirculation/TropicalAtlantic/runWOC_TATL_v1_20181008.nc\r\n",
      "/data/oceanparcels/input_data/ESA_WorldOceanCirculation/TropicalAtlantic/runWOC_TATL_v1_20181009.nc\r\n",
      "/data/oceanparcels/input_data/ESA_WorldOceanCirculation/TropicalAtlantic/runWOC_TATL_v1_20181010.nc\r\n",
      "/data/oceanparcels/input_data/ESA_WorldOceanCirculation/TropicalAtlantic/runWOC_TATL_v1_20181011.nc\r\n",
      "/data/oceanparcels/input_data/ESA_WorldOceanCirculation/TropicalAtlantic/runWOC_TATL_v1_20181012.nc\r\n",
      "/data/oceanparcels/input_data/ESA_WorldOceanCirculation/TropicalAtlantic/runWOC_TATL_v1_20181013.nc\r\n",
      "/data/oceanparcels/input_data/ESA_WorldOceanCirculation/TropicalAtlantic/runWOC_TATL_v1_20181014.nc\r\n",
      "/data/oceanparcels/input_data/ESA_WorldOceanCirculation/TropicalAtlantic/runWOC_TATL_v1_20181015.nc\r\n",
      "/data/oceanparcels/input_data/ESA_WorldOceanCirculation/TropicalAtlantic/runWOC_TATL_v1_20181016.nc\r\n",
      "/data/oceanparcels/input_data/ESA_WorldOceanCirculation/TropicalAtlantic/runWOC_TATL_v1_20181017.nc\r\n",
      "/data/oceanparcels/input_data/ESA_WorldOceanCirculation/TropicalAtlantic/runWOC_TATL_v1_20181018.nc\r\n",
      "/data/oceanparcels/input_data/ESA_WorldOceanCirculation/TropicalAtlantic/runWOC_TATL_v1_20181019.nc\r\n",
      "/data/oceanparcels/input_data/ESA_WorldOceanCirculation/TropicalAtlantic/runWOC_TATL_v1_20181020.nc\r\n",
      "/data/oceanparcels/input_data/ESA_WorldOceanCirculation/TropicalAtlantic/runWOC_TATL_v1_20181021.nc\r\n",
      "/data/oceanparcels/input_data/ESA_WorldOceanCirculation/TropicalAtlantic/runWOC_TATL_v1_20181022.nc\r\n",
      "/data/oceanparcels/input_data/ESA_WorldOceanCirculation/TropicalAtlantic/runWOC_TATL_v1_20181023.nc\r\n",
      "/data/oceanparcels/input_data/ESA_WorldOceanCirculation/TropicalAtlantic/runWOC_TATL_v1_20181024.nc\r\n",
      "/data/oceanparcels/input_data/ESA_WorldOceanCirculation/TropicalAtlantic/runWOC_TATL_v1_20181025.nc\r\n",
      "/data/oceanparcels/input_data/ESA_WorldOceanCirculation/TropicalAtlantic/runWOC_TATL_v1_20181026.nc\r\n",
      "/data/oceanparcels/input_data/ESA_WorldOceanCirculation/TropicalAtlantic/runWOC_TATL_v1_20181027.nc\r\n",
      "/data/oceanparcels/input_data/ESA_WorldOceanCirculation/TropicalAtlantic/runWOC_TATL_v1_20181028.nc\r\n",
      "/data/oceanparcels/input_data/ESA_WorldOceanCirculation/TropicalAtlantic/runWOC_TATL_v1_20181029.nc\r\n",
      "/data/oceanparcels/input_data/ESA_WorldOceanCirculation/TropicalAtlantic/runWOC_TATL_v1_20181030.nc\r\n",
      "/data/oceanparcels/input_data/ESA_WorldOceanCirculation/TropicalAtlantic/runWOC_TATL_v1_20181031.nc\r\n",
      "/data/oceanparcels/input_data/ESA_WorldOceanCirculation/TropicalAtlantic/runWOC_TATL_v1_20181101.nc\r\n",
      "/data/oceanparcels/input_data/ESA_WorldOceanCirculation/TropicalAtlantic/runWOC_TATL_v1_20181102.nc\r\n",
      "/data/oceanparcels/input_data/ESA_WorldOceanCirculation/TropicalAtlantic/runWOC_TATL_v1_20181103.nc\r\n",
      "/data/oceanparcels/input_data/ESA_WorldOceanCirculation/TropicalAtlantic/runWOC_TATL_v1_20181104.nc\r\n",
      "/data/oceanparcels/input_data/ESA_WorldOceanCirculation/TropicalAtlantic/runWOC_TATL_v1_20181105.nc\r\n",
      "/data/oceanparcels/input_data/ESA_WorldOceanCirculation/TropicalAtlantic/runWOC_TATL_v1_20181106.nc\r\n",
      "/data/oceanparcels/input_data/ESA_WorldOceanCirculation/TropicalAtlantic/runWOC_TATL_v1_20181107.nc\r\n",
      "/data/oceanparcels/input_data/ESA_WorldOceanCirculation/TropicalAtlantic/runWOC_TATL_v1_20181108.nc\r\n",
      "/data/oceanparcels/input_data/ESA_WorldOceanCirculation/TropicalAtlantic/runWOC_TATL_v1_20181109.nc\r\n",
      "/data/oceanparcels/input_data/ESA_WorldOceanCirculation/TropicalAtlantic/runWOC_TATL_v1_20181110.nc\r\n",
      "/data/oceanparcels/input_data/ESA_WorldOceanCirculation/TropicalAtlantic/runWOC_TATL_v1_20181111.nc\r\n",
      "/data/oceanparcels/input_data/ESA_WorldOceanCirculation/TropicalAtlantic/runWOC_TATL_v1_20181112.nc\r\n",
      "/data/oceanparcels/input_data/ESA_WorldOceanCirculation/TropicalAtlantic/runWOC_TATL_v1_20181113.nc\r\n",
      "/data/oceanparcels/input_data/ESA_WorldOceanCirculation/TropicalAtlantic/runWOC_TATL_v1_20181114.nc\r\n",
      "/data/oceanparcels/input_data/ESA_WorldOceanCirculation/TropicalAtlantic/runWOC_TATL_v1_20181115.nc\r\n",
      "/data/oceanparcels/input_data/ESA_WorldOceanCirculation/TropicalAtlantic/runWOC_TATL_v1_20181116.nc\r\n",
      "/data/oceanparcels/input_data/ESA_WorldOceanCirculation/TropicalAtlantic/runWOC_TATL_v1_20181117.nc\r\n",
      "/data/oceanparcels/input_data/ESA_WorldOceanCirculation/TropicalAtlantic/runWOC_TATL_v1_20181118.nc\r\n",
      "/data/oceanparcels/input_data/ESA_WorldOceanCirculation/TropicalAtlantic/runWOC_TATL_v1_20181119.nc\r\n",
      "/data/oceanparcels/input_data/ESA_WorldOceanCirculation/TropicalAtlantic/runWOC_TATL_v1_20181120.nc\r\n",
      "/data/oceanparcels/input_data/ESA_WorldOceanCirculation/TropicalAtlantic/runWOC_TATL_v1_20181121.nc\r\n",
      "/data/oceanparcels/input_data/ESA_WorldOceanCirculation/TropicalAtlantic/runWOC_TATL_v1_20181122.nc\r\n",
      "/data/oceanparcels/input_data/ESA_WorldOceanCirculation/TropicalAtlantic/runWOC_TATL_v1_20181123.nc\r\n",
      "/data/oceanparcels/input_data/ESA_WorldOceanCirculation/TropicalAtlantic/runWOC_TATL_v1_20181124.nc\r\n",
      "/data/oceanparcels/input_data/ESA_WorldOceanCirculation/TropicalAtlantic/runWOC_TATL_v1_20181125.nc\r\n",
      "/data/oceanparcels/input_data/ESA_WorldOceanCirculation/TropicalAtlantic/runWOC_TATL_v1_20181126.nc\r\n",
      "/data/oceanparcels/input_data/ESA_WorldOceanCirculation/TropicalAtlantic/runWOC_TATL_v1_20181127.nc\r\n",
      "/data/oceanparcels/input_data/ESA_WorldOceanCirculation/TropicalAtlantic/runWOC_TATL_v1_20181128.nc\r\n",
      "/data/oceanparcels/input_data/ESA_WorldOceanCirculation/TropicalAtlantic/runWOC_TATL_v1_20181129.nc\r\n",
      "/data/oceanparcels/input_data/ESA_WorldOceanCirculation/TropicalAtlantic/runWOC_TATL_v1_20181130.nc\r\n",
      "/data/oceanparcels/input_data/ESA_WorldOceanCirculation/TropicalAtlantic/runWOC_TATL_v1_20181201.nc\r\n",
      "/data/oceanparcels/input_data/ESA_WorldOceanCirculation/TropicalAtlantic/runWOC_TATL_v1_20181202.nc\r\n",
      "/data/oceanparcels/input_data/ESA_WorldOceanCirculation/TropicalAtlantic/runWOC_TATL_v1_20181203.nc\r\n",
      "/data/oceanparcels/input_data/ESA_WorldOceanCirculation/TropicalAtlantic/runWOC_TATL_v1_20181204.nc\r\n",
      "/data/oceanparcels/input_data/ESA_WorldOceanCirculation/TropicalAtlantic/runWOC_TATL_v1_20181205.nc\r\n",
      "/data/oceanparcels/input_data/ESA_WorldOceanCirculation/TropicalAtlantic/runWOC_TATL_v1_20181206.nc\r\n",
      "/data/oceanparcels/input_data/ESA_WorldOceanCirculation/TropicalAtlantic/runWOC_TATL_v1_20181207.nc\r\n",
      "/data/oceanparcels/input_data/ESA_WorldOceanCirculation/TropicalAtlantic/runWOC_TATL_v1_20181208.nc\r\n",
      "/data/oceanparcels/input_data/ESA_WorldOceanCirculation/TropicalAtlantic/runWOC_TATL_v1_20181209.nc\r\n",
      "/data/oceanparcels/input_data/ESA_WorldOceanCirculation/TropicalAtlantic/runWOC_TATL_v1_20181210.nc\r\n",
      "/data/oceanparcels/input_data/ESA_WorldOceanCirculation/TropicalAtlantic/runWOC_TATL_v1_20181211.nc\r\n",
      "/data/oceanparcels/input_data/ESA_WorldOceanCirculation/TropicalAtlantic/runWOC_TATL_v1_20181212.nc\r\n",
      "/data/oceanparcels/input_data/ESA_WorldOceanCirculation/TropicalAtlantic/runWOC_TATL_v1_20181213.nc\r\n",
      "/data/oceanparcels/input_data/ESA_WorldOceanCirculation/TropicalAtlantic/runWOC_TATL_v1_20181214.nc\r\n",
      "/data/oceanparcels/input_data/ESA_WorldOceanCirculation/TropicalAtlantic/runWOC_TATL_v1_20181215.nc\r\n",
      "/data/oceanparcels/input_data/ESA_WorldOceanCirculation/TropicalAtlantic/runWOC_TATL_v1_20181216.nc\r\n",
      "/data/oceanparcels/input_data/ESA_WorldOceanCirculation/TropicalAtlantic/runWOC_TATL_v1_20181217.nc\r\n",
      "/data/oceanparcels/input_data/ESA_WorldOceanCirculation/TropicalAtlantic/runWOC_TATL_v1_20181218.nc\r\n",
      "/data/oceanparcels/input_data/ESA_WorldOceanCirculation/TropicalAtlantic/runWOC_TATL_v1_20181219.nc\r\n",
      "/data/oceanparcels/input_data/ESA_WorldOceanCirculation/TropicalAtlantic/runWOC_TATL_v1_20181220.nc\r\n",
      "/data/oceanparcels/input_data/ESA_WorldOceanCirculation/TropicalAtlantic/runWOC_TATL_v1_20181221.nc\r\n",
      "/data/oceanparcels/input_data/ESA_WorldOceanCirculation/TropicalAtlantic/runWOC_TATL_v1_20181222.nc\r\n",
      "/data/oceanparcels/input_data/ESA_WorldOceanCirculation/TropicalAtlantic/runWOC_TATL_v1_20181223.nc\r\n",
      "/data/oceanparcels/input_data/ESA_WorldOceanCirculation/TropicalAtlantic/runWOC_TATL_v1_20181224.nc\r\n",
      "/data/oceanparcels/input_data/ESA_WorldOceanCirculation/TropicalAtlantic/runWOC_TATL_v1_20181225.nc\r\n",
      "/data/oceanparcels/input_data/ESA_WorldOceanCirculation/TropicalAtlantic/runWOC_TATL_v1_20181226.nc\r\n",
      "/data/oceanparcels/input_data/ESA_WorldOceanCirculation/TropicalAtlantic/runWOC_TATL_v1_20181227.nc\r\n",
      "/data/oceanparcels/input_data/ESA_WorldOceanCirculation/TropicalAtlantic/runWOC_TATL_v1_20181228.nc\r\n",
      "/data/oceanparcels/input_data/ESA_WorldOceanCirculation/TropicalAtlantic/runWOC_TATL_v1_20181229.nc\r\n",
      "/data/oceanparcels/input_data/ESA_WorldOceanCirculation/TropicalAtlantic/runWOC_TATL_v1_20181230.nc\r\n",
      "/data/oceanparcels/input_data/ESA_WorldOceanCirculation/TropicalAtlantic/runWOC_TATL_v1_20181231.nc\r\n"
     ]
    }
   ],
   "source": [
    "!ls /data/oceanparcels/input_data/ESA_WorldOceanCirculation/TropicalAtlantic/*v1*"
   ]
  },
  {
   "cell_type": "code",
   "execution_count": 12,
   "metadata": {},
   "outputs": [],
   "source": [
    "filenames = {'U': data_path+fname, 'V': data_path+fname}\n",
    "variables = {'U': 'utot', 'V': 'vtot'}\n",
    "dimensions = {'lon': 'lon', 'lat': 'lat', 'time': 'time', 'depth': 'depth'} # comment depth in or out? for v0 not necessary!\n",
    "indices = {'depth': [0]} # use first layer (surface, 0m)\n",
    "fieldset = FieldSet.from_netcdf(filenames, variables, dimensions, indices)"
   ]
  },
  {
   "cell_type": "markdown",
   "metadata": {},
   "source": [
    "# 2. Defining the particles type and initial conditions in a ParticleSet object"
   ]
  },
  {
   "cell_type": "markdown",
   "metadata": {},
   "source": [
    "## 2.1 Formatting the launch time:"
   ]
  },
  {
   "cell_type": "code",
   "execution_count": 13,
   "metadata": {},
   "outputs": [],
   "source": [
    "# Convert datetime to second since fieldset time origin (time first UV file):\n",
    "date_ini_fieldset = datetime.strptime(str(fieldset.time_origin)[0:-3], '%Y-%m-%dT%H:%M:%S.%f')\n",
    "\n",
    "## First modify input times:\n",
    "launch_times_dict = dict(enumerate(launch_times.flatten(), 1))\n",
    "\n",
    "launch_times_s = np.ones(len(launch_times_dict)) * np.nan\n",
    "for ii in launch_times_dict.keys():\n",
    "    launch_times_dict[ii] = datetime.strptime(launch_times_dict[ii], '%Y-%m-%d %H:%M:%S')\n",
    "    launch_times_s[ii-1] = (launch_times_dict[ii]-date_ini_fieldset).total_seconds()\n"
   ]
  },
  {
   "cell_type": "markdown",
   "metadata": {},
   "source": [
    "## 2.2 Setting the depth at which the horizontal 2D drift will take place:"
   ]
  },
  {
   "cell_type": "code",
   "execution_count": 14,
   "metadata": {},
   "outputs": [],
   "source": [
    "depp    = launch_lats.copy() # Creating array of release depths of same size as other launch variables\n",
    "depp[:] = 0. #m\n"
   ]
  },
  {
   "cell_type": "markdown",
   "metadata": {},
   "source": [
    "# 2.3 Defining the kernels and particle class:"
   ]
  },
  {
   "cell_type": "code",
   "execution_count": 15,
   "metadata": {},
   "outputs": [],
   "source": [
    "def add_WOC_nc_attbts(noutput_file, start_time, end_time, lomin, lomax, lamin, lamax\n",
    "                      , input_filename, ntitle, summary, inid, ndepth):\n",
    "    \"\"\"\n",
    "    Function to add the netCDF attributes.\n",
    "    Inputs:\n",
    "    start_time : \"2017-01-01T00:28:08Z\"\n",
    "    \n",
    "    (TATL)-99.0, -46.0, 5., 30.\n",
    "    (NATL)-75.0, 20., 48., 80.\n",
    "    \n",
    "    ntitle: title\n",
    "        * \"North Atlantic 2D horizontal drift of Oil for ESA WOC project\" \n",
    "        * \"Tropical Atlantic 2D horizontal drift of Sargassum for ESA WOC project\"  \n",
    "    \n",
    "    summary :\"This dataset contains the positions of virtual particles at \n",
    "        * 0m\n",
    "        * 15m \n",
    "    representing the trajectories of \n",
    "        * oil in the North Atlantic \n",
    "        * Sargassum in “the Tropical Atlantic\"\n",
    "    \n",
    "    input_filename: input = \"name of input filename(s). Ex : ERA5 (ocean currents) : file1\n",
    "    ,  CMEMS (MULTIOBS_GLO_PHY_REP_015_004) : file2\n",
    "        * NATL: \"WOC-L4-CUReul-NATL-1H: runWOC_NATL_4lb_v1_201109*.nc\"\n",
    "        * TATL: \"WOC-L4-CUReul-TATL-1H: runWOC_TATL_4lb_v1_201803*.nc\"\n",
    "        \n",
    "    inid:\n",
    "        * \"WOC-L4-CURlag-NATL_OIL_SPILL_DRIFT_1H_INST\" --> \"NATL_OIL_SPILL_DRIFT_1H_INST\"\n",
    "        * \"WOC-L4-CURlag-NATL_OIL_SPILL_DRIFT_1H_CONT\" --> \"NATL_OIL_SPILL_DRIFT_1H_CONT\"\n",
    "    ndepth\n",
    "        * \"0\" or \"15\"\n",
    "\n",
    "    \"\"\"\n",
    "\n",
    "    noutput_file.add_metadata('Conventions',\"CF-1.7, ACDD-1.3, ISO 8601\")\n",
    "    noutput_file.add_metadata('Metadata_Conventions', \"Climate and Forecast (CF) 1.7, Attribute Convention for Data Discovery (ACDD) 1.3\")\n",
    "    noutput_file.add_metadata('standard_name_vocabulary', \"NetCDF Climate and Forecast (CF) Metadata Convention version 1.8\")\n",
    "            \n",
    "    noutput_file.add_metadata('title', ntitle)\n",
    "    noutput_file.add_metadata('summary', summary)\n",
    "    \n",
    "    noutput_file.add_metadata('id',  \"WOC-L4-CURlag-\" + inid) \n",
    "    noutput_file.add_metadata('institution', \"Utrecht University, Institut Francais de Recherche pour l\\'Exploitation de la mer / CERSAT, European Space Agency\")\n",
    "    noutput_file.add_metadata('institution_abbreviation', \"Utrecht University, Ifremer/Cersat, ESA\")\n",
    "    noutput_file.add_metadata('references', \"Delandmeter, P., & Sebille, E. V. The Parcels v2. 0 Lagrangian framework: new field interpolation schemes. Geoscientific Model Development 2019, vol. 12, No. 8, 3571-3584. https://doi.org/10.5194/gmd-12-3571-2019.\")\n",
    "    \n",
    "    noutput_file.add_metadata('product_version',\"1.0\")\n",
    "    noutput_file.add_metadata('keywords', \"Earth Science > Oceans > Ocean Circulation > Ocean Currents\")\n",
    "    noutput_file.add_metadata('keywords_vocabulary', \"NASA Global Change Master Directory (GCMD) Science Keywords\")\n",
    "        \n",
    "    noutput_file.add_metadata('naming_authority', \"fr.ifremer.cersat\")\n",
    "    noutput_file.add_metadata('cdm_data_type', \"trajectory\")\n",
    "            \n",
    "    noutput_file.add_metadata('comment',\"These data were produced at IMAU, Utrecht University (Netherlands) as part of the ESA WOC project.\")\n",
    "    noutput_file.add_metadata('creator', 'Laura Gomez Navarro')\n",
    "    noutput_file.add_metadata('creator_url', 'https://oceanparcels.org/')\n",
    "\n",
    "    noutput_file.add_metadata('creator_email', \"l.gomeznavarro@uu.nl\")\n",
    "    noutput_file.add_metadata('creator_institution',\"IMAU, Utrecht University\")\n",
    "\n",
    "    noutput_file.add_metadata('project',\"World Ocean Circulation (WOC) - European Space Agency\")\n",
    "    noutput_file.add_metadata('time_coverage_start', start_time)\n",
    "\n",
    "    noutput_file.add_metadata('time_coverage_end', end_time)\n",
    "\n",
    "    noutput_file.add_metadata('geospatial_lat_min', lamin)\n",
    "    noutput_file.add_metadata('geospatial_lat_max', lamax)\n",
    "    noutput_file.add_metadata('geospatial_lat_units',\"degree_north\")\n",
    "    noutput_file.add_metadata('geospatial_lon_min', lomin)\n",
    "    noutput_file.add_metadata('geospatial_lon_max', lomax)\n",
    "    noutput_file.add_metadata('geospatial_lon_units', \"degree_east\")\n",
    "    noutput_file.add_metadata('geospatial_vertical_min', ndepth)\n",
    "    noutput_file.add_metadata('geospatial_vertical_max', ndepth)\n",
    "    noutput_file.add_metadata('geospatial_vertical_units', \"meters below mean sea level\")\n",
    "    noutput_file.add_metadata('geospatial_vertical_positive', \"down\")\n",
    "                              \n",
    "    noutput_file.add_metadata('license', \"ESA WOC Data Policy: free and open access\")\n",
    "\n",
    "    noutput_file.add_metadata('netcdf_version_id', \"4.6.1 of May 13 2018 11:35:43 $\")\n",
    "    noutput_file.add_metadata('acknowledgement', \"Please acknowledge the use of these data with the following statement: these data were obtained from the ESA WOC project\")\n",
    "    noutput_file.add_metadata('format_version', \"WOC v1.0\")\n",
    "    noutput_file.add_metadata('processing_level', \"L4\")\n",
    "    noutput_file.add_metadata('method'\n",
    "            ,\"2D lagrangian advection using Runge-Kutta4 and executed using the OceanParcels framework\")\n",
    "    \n",
    "    import uuid\n",
    "    noutput_file.add_metadata('track_id', str(uuid.uuid4()))\n",
    "\n",
    "    noutput_file.add_metadata('publisher_name',\"CERSAT\")\n",
    "    noutput_file.add_metadata('publisher_url',\"cersat.ifremer.fr\")\n",
    "    noutput_file.add_metadata('publisher_email',\"cersat@ifremer.fr\")\n",
    "    noutput_file.add_metadata('publisher_institution',\"Ifremer / CERSAT\")\n",
    "    noutput_file.add_metadata('scientific_support_contact', \"l.gomeznavarro@uu.nl\")\n",
    "\n",
    "    noutput_file.add_metadata('technical_support_contact',\"cersat@ifremer.fr\")\n",
    "    noutput_file.add_metadata('key_variables',\"eastward_eulerian_current_velocity, westward_eulerian_current_velocity\")\n",
    "    noutput_file.add_metadata('date_created',\"2021-05-31 15:31:25\") # modify for TATL and other simus NATL\n",
    "    noutput_file.add_metadata('date_modified', \"2021-05-31 15:31:25\") # modify for TATL and other simus NATL\n",
    "    noutput_file.add_metadata('source',\"parcels\")\n",
    "    noutput_file.add_metadata('source_version',\"2.2.2.dev126+g6dd05b7\")\n",
    "    noutput_file.add_metadata('history',\"2021-05-31 15:31:25 - Creation\") # modify for TATL and other simus NATL\n",
    "    noutput_file.add_metadata('input', input_filename)\n",
    "\n",
    "    noutput_file.add_metadata('processing_software',\"parcels\")\n"
   ]
  },
  {
   "cell_type": "code",
   "execution_count": 16,
   "metadata": {},
   "outputs": [],
   "source": [
    "def DeleteParticle(particle, fieldset, time):\n",
    "    particle.delete()\n",
    "\n",
    "def AgeParticle(particle, fieldset, time):\n",
    "    if particle.state == ErrorCode.Evaluate:\n",
    "        particle.age += math.fabs(particle.dt)\n",
    "    if particle.age > fieldset.maxage:\n",
    "        particle.delete()\n",
    "\n",
    "class DrifterParticle(JITParticle):\n",
    "    age = Variable('age')\n",
    "    launch_id = Variable('launch_id', to_write='once')\n"
   ]
  },
  {
   "cell_type": "markdown",
   "metadata": {},
   "source": [
    "# 2.4 ParticleSet:"
   ]
  },
  {
   "cell_type": "code",
   "execution_count": 17,
   "metadata": {},
   "outputs": [],
   "source": [
    "pset = ParticleSet(fieldset, pclass=DrifterParticle, lon=list(launch_lons),\n",
    "                   lat=list(launch_lats), time=list(launch_times_s), depth=depp, launch_id=list(launch_ids)) "
   ]
  },
  {
   "cell_type": "markdown",
   "metadata": {},
   "source": [
    "# 3. Executing the simulation:"
   ]
  },
  {
   "cell_type": "markdown",
   "metadata": {},
   "source": [
    "# 3.1. Defining parameters"
   ]
  },
  {
   "cell_type": "code",
   "execution_count": 18,
   "metadata": {},
   "outputs": [],
   "source": [
    "fieldset.maxage = timedelta(days=180.).total_seconds() \n",
    "runtime = (max(list(launch_times_s))-min(list(launch_times_s))) + fieldset.maxage\n",
    "\n",
    "outdir =  \"/data/oceanparcels/output_data/data_LauraGN/outputs_parcels/WOC/Sargassum/\"\n",
    "pfname = '20180312065959-WOC-L4-CURlag-TATL_sargassum_drift_1H_00m_drifters_180days-v1.0-fv1.0.nc'\n",
    "\n",
    "output_file = pset.ParticleFile(name=outdir + pfname, outputdt=timedelta(hours=1))"
   ]
  },
  {
   "cell_type": "markdown",
   "metadata": {},
   "source": [
    "# 3.2 Running"
   ]
  },
  {
   "cell_type": "code",
   "execution_count": 19,
   "metadata": {},
   "outputs": [],
   "source": [
    "# pset.execute(pset.Kernel(AdvectionRK4)+AgeParticle, dt=delta(minutes=10), runtime=runtime,\n",
    "#              recovery={ErrorCode.ErrorOutOfBounds: DeleteParticle},\n",
    "#              output_file=pset.ParticleFile(pfname, outputdt=delta(hours=1)))"
   ]
  },
  {
   "cell_type": "code",
   "execution_count": 20,
   "metadata": {},
   "outputs": [
    {
     "name": "stderr",
     "output_type": "stream",
     "text": [
      "INFO: Compiled DrifterParticleAdvectionRK4AgeParticle ==> /tmp/parcels-319202/e30a6c540ccbb153fe685c56ef273f04_0.so\n",
      "WARNING: time argument in pfile.write() is 975600.0, but particles have time [975660.]\n",
      "INFO: Temporary output files are stored in /data/oceanparcels/output_data/data_LauraGN/outputs_parcels/WOC/Sargassum/out-NLAZGGDR.\n",
      "INFO: You can use \"parcels_convert_npydir_to_netcdf /data/oceanparcels/output_data/data_LauraGN/outputs_parcels/WOC/Sargassum/out-NLAZGGDR\" to convert these to a NetCDF file during the run.\n",
      "100% |########################################################################|\n"
     ]
    },
    {
     "name": "stdout",
     "output_type": "stream",
     "text": [
      "17488800.0\n"
     ]
    }
   ],
   "source": [
    "pset.execute(pset.Kernel(AdvectionRK4)+AgeParticle, runtime=runtime, dt=timedelta(minutes=10),\n",
    "             recovery={ErrorCode.ErrorOutOfBounds: DeleteParticle}, output_file=output_file)\n",
    "\n",
    "start_time = datetime.strptime(launch_times[0], '%Y-%m-%d %H:%M:%S').isoformat()\n",
    "# Check in case it's not NaN:\n",
    "print(pset.particle_data['time'][0]) #modify to assert \n",
    "time_unit_out= \"seconds since \" + str(pset.time_origin)\n",
    "#end_time = (num2date(output_file.time[:].max(), time_unit_out)).isoformat()\n",
    "end_time = (num2date(max(output_file.time_written), time_unit_out)).isoformat()\n",
    "\n",
    "add_WOC_nc_attbts(output_file, start_time, end_time, -99.0, -46.0, 5., 30.\n",
    "        , input_filename=\"WOC-L4-CUReul-TATL-1H: runWOC_TATL_4lb_v1_2018*.nc\"\n",
    "        , ntitle=\"Tropical Atlantic 2D horizontal drift of Sargassum for ESA WOC project\" \n",
    "        , summary=\"This dataset contains the positions of virtual particles released following the Miron et al (2020) field study at locations d1 and d2 at 0m representing the trajectories of Sargassum in the Tropical Atlantic.\"\n",
    "        , inid = \"TATL_SARGASSUM_DRIFT_1H_DRIFTERS\"\n",
    "        , ndepth = \"0\")\n",
    "\n",
    "output_file.export()  # exports the trajectory data to a netcdf file\n"
   ]
  },
  {
   "cell_type": "code",
   "execution_count": 21,
   "metadata": {},
   "outputs": [
    {
     "name": "stdout",
     "output_type": "stream",
     "text": [
      "20180312065959-WOC-L4-CURlag-TATL_sargassum_drift_1H_00m_drifters_10days-v1.0-fv1.0.nc\r\n",
      "20180312065959-WOC-L4-CURlag-TATL_sargassum_drift_1H_00m_drifters_180days-v1.0-fv1.0.nc\r\n",
      "20180312065959-WOC-L4-CURlag-TATL_sargassum_drift_1H_15m_V3_drifters_180days-v1.0-fv1.0.nc\r\n",
      "20180312065959-WOC-L4-CURlag-TATL_sargassum_drift_1H_15m_drifters_180days-v1.0-fv1.0.nc\r\n",
      "CMEMS-TATL_sargassum_drift_1H_00m_10days_d2.nc\r\n",
      "CMEMS-TATL_sargassum_drift_1H_00m_drifters_180days-v1.0-fv1.0.nc\r\n",
      "CMEMS-TATL_sargassum_drift_1H_15m_drifters_180days-v1.0-fv1.0.nc\r\n",
      "out-NLAZGGDR\r\n",
      "sargassum_parcels_Clement_v01_00m_MESH_90days.nc\r\n",
      "sargassum_parcels_Clement_v01_15m_MESH_90days.nc\r\n"
     ]
    }
   ],
   "source": [
    "!ls /data/oceanparcels/output_data/data_LauraGN/outputs_parcels/WOC/Sargassum/"
   ]
  },
  {
   "cell_type": "code",
   "execution_count": 23,
   "metadata": {},
   "outputs": [],
   "source": [
    "!rm -rf /data/oceanparcels/output_data/data_LauraGN/outputs_parcels/WOC/Sargassum/out-*"
   ]
  },
  {
   "cell_type": "markdown",
   "metadata": {},
   "source": [
    "# 4. Checking the outputs:"
   ]
  },
  {
   "cell_type": "code",
   "execution_count": 23,
   "metadata": {},
   "outputs": [
    {
     "name": "stdout",
     "output_type": "stream",
     "text": [
      "netcdf \\20180312065959-WOC-L4-CURlag-TATL_sargassum_drift_1H_00m_drifters_10days-v1.0-fv1.0 {\r\n",
      "dimensions:\r\n",
      "\tobs = 242 ;\r\n",
      "\ttraj = 10 ;\r\n",
      "variables:\r\n",
      "\tint64 trajectory(traj, obs) ;\r\n",
      "\t\ttrajectory:_FillValue = -9223372036854775808L ;\r\n",
      "\t\ttrajectory:long_name = \"Unique identifier for each particle\" ;\r\n",
      "\t\ttrajectory:cf_role = \"trajectory_id\" ;\r\n",
      "\tdouble time(traj, obs) ;\r\n",
      "\t\ttime:_FillValue = NaN ;\r\n",
      "\t\ttime:long_name = \"\" ;\r\n",
      "\t\ttime:standard_name = \"time\" ;\r\n",
      "\t\ttime:units = \"seconds since 2018-03-01T00:00:00.000000000\" ;\r\n",
      "\t\ttime:calendar = \"standard\" ;\r\n",
      "\t\ttime:axis = \"T\" ;\r\n",
      "\tfloat lat(traj, obs) ;\r\n",
      "\t\tlat:_FillValue = NaNf ;\r\n",
      "\t\tlat:long_name = \"\" ;\r\n",
      "\t\tlat:standard_name = \"latitude\" ;\r\n",
      "\t\tlat:units = \"degrees_north\" ;\r\n",
      "\t\tlat:axis = \"Y\" ;\r\n",
      "\tfloat lon(traj, obs) ;\r\n",
      "\t\tlon:_FillValue = NaNf ;\r\n",
      "\t\tlon:long_name = \"\" ;\r\n",
      "\t\tlon:standard_name = \"longitude\" ;\r\n",
      "\t\tlon:units = \"degrees_east\" ;\r\n",
      "\t\tlon:axis = \"X\" ;\r\n",
      "\tfloat z(traj, obs) ;\r\n",
      "\t\tz:_FillValue = NaNf ;\r\n",
      "\t\tz:long_name = \"\" ;\r\n",
      "\t\tz:standard_name = \"depth\" ;\r\n",
      "\t\tz:units = \"m\" ;\r\n",
      "\t\tz:positive = \"down\" ;\r\n",
      "\tfloat age(traj, obs) ;\r\n",
      "\t\tage:_FillValue = NaNf ;\r\n",
      "\t\tage:long_name = \"\" ;\r\n",
      "\t\tage:standard_name = \"age\" ;\r\n",
      "\t\tage:units = \"unknown\" ;\r\n",
      "\tfloat launch_id(traj) ;\r\n",
      "\t\tlaunch_id:_FillValue = NaNf ;\r\n",
      "\t\tlaunch_id:long_name = \"\" ;\r\n",
      "\t\tlaunch_id:standard_name = \"launch_id\" ;\r\n",
      "\t\tlaunch_id:units = \"unknown\" ;\r\n",
      "\r\n",
      "// global attributes:\r\n",
      "\t\t:feature_type = \"trajectory\" ;\r\n",
      "\t\t:Conventions = \"CF-1.7, ACDD-1.3, ISO 8601\" ;\r\n",
      "\t\t:ncei_template_version = \"NCEI_NetCDF_Trajectory_Template_v2.0\" ;\r\n",
      "\t\t:parcels_version = \"2.2.2.dev126+g6dd05b7\" ;\r\n",
      "\t\t:parcels_mesh = \"spherical\" ;\r\n",
      "\t\t:Metadata_Conventions = \"Climate and Forecast (CF) 1.7, Attribute Convention for Data Discovery (ACDD) 1.3\" ;\r\n",
      "\t\t:standard_name_vocabulary = \"NetCDF Climate and Forecast (CF) Metadata Convention version 1.8\" ;\r\n",
      "\t\t:title = \"Tropical Atlantic 2D horizontal drift of Sargassum for ESA WOC project\" ;\r\n",
      "\t\t:summary = \"This dataset contains the positions of virtual particles released following the Miron et al (2020) field study at locations d1 and d2 at 0m representing the trajectories of Sargassum in the Tropical Atlantic.\" ;\r\n",
      "\t\t:id = \"WOC-L4-CURlag-TATL_SARGASSUM_DRIFT_1H_DRIFTERS\" ;\r\n",
      "\t\t:institution = \"Utrecht University, Institut Francais de Recherche pour l\\'Exploitation de la mer / CERSAT, European Space Agency\" ;\r\n",
      "\t\t:institution_abbreviation = \"Utrecht University, Ifremer/Cersat, ESA\" ;\r\n",
      "\t\t:references = \"Delandmeter, P., & Sebille, E. V. The Parcels v2. 0 Lagrangian framework: new field interpolation schemes. Geoscientific Model Development 2019, vol. 12, No. 8, 3571-3584. https://doi.org/10.5194/gmd-12-3571-2019.\" ;\r\n",
      "\t\t:product_version = \"1.0\" ;\r\n",
      "\t\t:keywords = \"Earth Science > Oceans > Ocean Circulation > Ocean Currents\" ;\r\n",
      "\t\t:keywords_vocabulary = \"NASA Global Change Master Directory (GCMD) Science Keywords\" ;\r\n",
      "\t\t:naming_authority = \"fr.ifremer.cersat\" ;\r\n",
      "\t\t:cdm_data_type = \"trajectory\" ;\r\n",
      "\t\t:comment = \"These data were produced at IMAU, Utrecht University (Netherlands) as part of the ESA WOC project.\" ;\r\n",
      "\t\t:creator = \"Laura Gomez Navarro\" ;\r\n",
      "\t\t:creator_url = \"https://oceanparcels.org/\" ;\r\n",
      "\t\t:creator_email = \"l.gomeznavarro@uu.nl\" ;\r\n",
      "\t\t:creator_institution = \"IMAU, Utrecht University\" ;\r\n",
      "\t\t:project = \"World Ocean Circulation (WOC) - European Space Agency\" ;\r\n",
      "\t\t:time_coverage_start = \"2018-03-12T07:00:00\" ;\r\n",
      "\t\t:time_coverage_end = \"2018-04-02T10:00:00\" ;\r\n",
      "\t\t:geospatial_lat_min = 5. ;\r\n",
      "\t\t:geospatial_lat_max = 30. ;\r\n",
      "\t\t:geospatial_lat_units = \"degree_north\" ;\r\n",
      "\t\t:geospatial_lon_min = -99. ;\r\n",
      "\t\t:geospatial_lon_max = -46. ;\r\n",
      "\t\t:geospatial_lon_units = \"degree_east\" ;\r\n",
      "\t\t:geospatial_vertical_min = \"0\" ;\r\n",
      "\t\t:geospatial_vertical_max = \"0\" ;\r\n",
      "\t\t:geospatial_vertical_units = \"meters below mean sea level\" ;\r\n",
      "\t\t:geospatial_vertical_positive = \"down\" ;\r\n",
      "\t\t:license = \"ESA WOC Data Policy: free and open access\" ;\r\n",
      "\t\t:netcdf_version_id = \"4.6.1 of May 13 2018 11:35:43 $\" ;\r\n",
      "\t\t:acknowledgement = \"Please acknowledge the use of these data with the following statement: these data were obtained from the ESA WOC project\" ;\r\n",
      "\t\t:format_version = \"WOC v1.0\" ;\r\n",
      "\t\t:processing_level = \"L4\" ;\r\n",
      "\t\t:method = \"2D lagrangian advection using Runge-Kutta4 and executed using the OceanParcels framework\" ;\r\n",
      "\t\t:track_id = \"400ab4e1-b101-437b-93eb-ff73c6c600f0\" ;\r\n",
      "\t\t:publisher_name = \"CERSAT\" ;\r\n",
      "\t\t:publisher_url = \"cersat.ifremer.fr\" ;\r\n",
      "\t\t:publisher_email = \"cersat@ifremer.fr\" ;\r\n",
      "\t\t:publisher_institution = \"Ifremer / CERSAT\" ;\r\n",
      "\t\t:scientific_support_contact = \"l.gomeznavarro@uu.nl\" ;\r\n",
      "\t\t:technical_support_contact = \"cersat@ifremer.fr\" ;\r\n",
      "\t\t:key_variables = \"eastward_eulerian_current_velocity, westward_eulerian_current_velocity\" ;\r\n",
      "\t\t:date_created = \"2021-05-31 15:31:25\" ;\r\n",
      "\t\t:date_modified = \"2021-05-31 15:31:25\" ;\r\n",
      "\t\t:source = \"parcels\" ;\r\n",
      "\t\t:source_version = \"2.2.2.dev126+g6dd05b7\" ;\r\n",
      "\t\t:history = \"2021-05-31 15:31:25 - Creation\" ;\r\n",
      "\t\t:input = \"WOC-L4-CUReul-TATL-1H: runWOC_TATL_4lb_v1_2018*.nc\" ;\r\n",
      "\t\t:processing_software = \"parcels\" ;\r\n",
      "\t\t:_NCProperties = \"version=2,netcdf=4.6.3,hdf5=1.10.4\" ;\r\n",
      "}\r\n"
     ]
    }
   ],
   "source": [
    "!ncdump -h  /data/oceanparcels/output_data/data_LauraGN/outputs_parcels/WOC/Sargassum/20180312065959-WOC-L4-CURlag-TATL_sargassum_drift_1H_00m_drifters_180days-v1.0-fv1.0.nc\n"
   ]
  },
  {
   "cell_type": "markdown",
   "metadata": {},
   "source": [
    "# Plotting first output:"
   ]
  },
  {
   "cell_type": "code",
   "execution_count": 24,
   "metadata": {},
   "outputs": [],
   "source": [
    "ds = xr.open_dataset(outdir + pfname)\n"
   ]
  },
  {
   "cell_type": "code",
   "execution_count": 25,
   "metadata": {},
   "outputs": [
    {
     "data": {
      "image/png": "[encoded data removed]",
      "text/plain": [
       "<Figure size 1008x1008 with 1 Axes>"
      ]
     },
     "metadata": {
      "needs_background": "light"
     },
     "output_type": "display_data"
    }
   ],
   "source": [
    "plt.figure(figsize=(14,14)) #(17,5)\n",
    "\n",
    "ax1 = plt.subplot(111, projection=ccrs.PlateCarree())\n",
    "ax1.coastlines(resolution='50m')\n",
    "#ax1.add_feature(cartopy.feature.LAND, facecolor='black')\n",
    "ax1.scatter(ds['lon'], ds['lat'], s=1, transform=ccrs.PlateCarree()) #marker='o'\n",
    "ax1.set_xlim([-100., -44.])\n",
    "ax1.set_ylim([5., 30.])\n",
    "gl = ax1.gridlines(crs=ccrs.PlateCarree(), draw_labels=True)\n",
    "gl.xlabels_top = False\n",
    "gl.ylabels_right = False\n",
    "#gl.ylocator = mticker.FixedLocator([0, 5, 10, 15, 20, 25, 30, 35])\n",
    "gl.xformatter = LONGITUDE_FORMATTER\n",
    "gl.yformatter = LATITUDE_FORMATTER"
   ]
  },
  {
   "cell_type": "code",
   "execution_count": null,
   "metadata": {},
   "outputs": [],
   "source": []
  }
 ],
 "metadata": {
  "kernelspec": {
   "display_name": "Python 3",
   "language": "python",
   "name": "python3"
  },
  "language_info": {
   "codemirror_mode": {
    "name": "ipython",
    "version": 3
   },
   "file_extension": ".py",
   "mimetype": "text/x-python",
   "name": "python",
   "nbconvert_exporter": "python",
   "pygments_lexer": "ipython3",
   "version": "3.6.8"
  }
 },
 "nbformat": 4,
 "nbformat_minor": 2
}

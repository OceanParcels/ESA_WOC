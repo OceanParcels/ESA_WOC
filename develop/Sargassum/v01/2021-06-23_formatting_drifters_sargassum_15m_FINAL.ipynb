{
 "cells": [
  {
   "cell_type": "markdown",
   "metadata": {},
   "source": [
    "\n",
    "* In:\n",
    "/data/oceanparcels/output_data/data_LauraGN/outputs_parcels/WOC/Sargassum/20180312065959-WOC-L4-CURlag-TATL_sargassum_drift_1H_15m_drifters_180days-v1.0-fv1.0.nc\n",
    "\n",
    "* outname:\n",
    "/data/oceanparcels/output_data/data_LauraGN/outputs_parcels/WOC/Sargassum/20180312070000-WOC-L4-CURlag_15m-TATL_SARGASSUM_DRIFT_1H_DRIFTERS-v1.0-fv2.0.nc\n",
    "\n"
   ]
  },
  {
   "cell_type": "code",
   "execution_count": 1,
   "metadata": {},
   "outputs": [
    {
     "name": "stdout",
     "output_type": "stream",
     "text": [
      "rm: cannot remove '/data/oceanparcels/output_data/data_LauraGN/outputs_parcels/WOC/Sargassum/20180312070000-WOC-L4-CURlag_15m-TATL_SARGASSUM_DRIFT_1H_DRIFTERS-v1.0-fv2.0.nc': No such file or directory\r\n"
     ]
    }
   ],
   "source": [
    "!rm /data/oceanparcels/output_data/data_LauraGN/outputs_parcels/WOC/Sargassum/20180312070000-WOC-L4-CURlag_15m-TATL_SARGASSUM_DRIFT_1H_DRIFTERS-v1.0-fv2.0.nc"
   ]
  },
  {
   "cell_type": "code",
   "execution_count": 2,
   "metadata": {},
   "outputs": [
    {
     "name": "stdout",
     "output_type": "stream",
     "text": [
      "rm: cannot remove '/data/oceanparcels/output_data/data_LauraGN/outputs_parcels/WOC/Sargassum/out_*': No such file or directory\r\n"
     ]
    }
   ],
   "source": [
    "!rm /data/oceanparcels/output_data/data_LauraGN/outputs_parcels/WOC/Sargassum/out_*"
   ]
  },
  {
   "cell_type": "markdown",
   "metadata": {},
   "source": [
    "# 1. Changing reference time:"
   ]
  },
  {
   "cell_type": "code",
   "execution_count": 3,
   "metadata": {},
   "outputs": [],
   "source": [
    "!ncap2 -h -s 'time=udunits(time, \"seconds since 1970-01-01\");time@units=\"seconds since 1970-01-01\"' /data/oceanparcels/output_data/data_LauraGN/outputs_parcels/WOC/Sargassum/20180312065959-WOC-L4-CURlag-TATL_sargassum_drift_1H_15m_drifters_180days-v1.0-fv1.0.nc /data/oceanparcels/output_data/data_LauraGN/outputs_parcels/WOC/Sargassum/out_01.nc"
   ]
  },
  {
   "cell_type": "code",
   "execution_count": 4,
   "metadata": {},
   "outputs": [
    {
     "name": "stdout",
     "output_type": "stream",
     "text": [
      "netcdf out_01 {\r\n",
      "dimensions:\r\n",
      "\ttraj = 10 ;\r\n",
      "\tobs = 4322 ;\r\n",
      "variables:\r\n",
      "\tdouble time(traj, obs) ;\r\n",
      "\t\ttime:_FillValue = NaN ;\r\n",
      "\t\ttime:axis = \"T\" ;\r\n",
      "\t\ttime:calendar = \"standard\" ;\r\n",
      "\t\ttime:long_name = \"\" ;\r\n",
      "\t\ttime:standard_name = \"time\" ;\r\n",
      "\t\ttime:units = \"seconds since 1970-01-01\" ;\r\n",
      "\tint64 trajectory(traj, obs) ;\r\n",
      "\t\ttrajectory:_FillValue = -9223372036854775808L ;\r\n",
      "\t\ttrajectory:long_name = \"Unique identifier for each particle\" ;\r\n",
      "\t\ttrajectory:cf_role = \"trajectory_id\" ;\r\n",
      "\tfloat lat(traj, obs) ;\r\n",
      "\t\tlat:_FillValue = NaNf ;\r\n",
      "\t\tlat:long_name = \"\" ;\r\n",
      "\t\tlat:standard_name = \"latitude\" ;\r\n",
      "\t\tlat:units = \"degrees_north\" ;\r\n",
      "\t\tlat:axis = \"Y\" ;\r\n",
      "\tfloat lon(traj, obs) ;\r\n",
      "\t\tlon:_FillValue = NaNf ;\r\n",
      "\t\tlon:long_name = \"\" ;\r\n",
      "\t\tlon:standard_name = \"longitude\" ;\r\n",
      "\t\tlon:units = \"degrees_east\" ;\r\n",
      "\t\tlon:axis = \"X\" ;\r\n",
      "\tfloat z(traj, obs) ;\r\n",
      "\t\tz:_FillValue = NaNf ;\r\n",
      "\t\tz:long_name = \"\" ;\r\n",
      "\t\tz:standard_name = \"depth\" ;\r\n",
      "\t\tz:units = \"m\" ;\r\n",
      "\t\tz:positive = \"down\" ;\r\n",
      "\tfloat age(traj, obs) ;\r\n",
      "\t\tage:_FillValue = NaNf ;\r\n",
      "\t\tage:long_name = \"\" ;\r\n",
      "\t\tage:standard_name = \"age\" ;\r\n",
      "\t\tage:units = \"unknown\" ;\r\n",
      "\tfloat launch_id(traj) ;\r\n",
      "\t\tlaunch_id:_FillValue = NaNf ;\r\n",
      "\t\tlaunch_id:long_name = \"\" ;\r\n",
      "\t\tlaunch_id:standard_name = \"launch_id\" ;\r\n",
      "\t\tlaunch_id:units = \"unknown\" ;\r\n",
      "\r\n",
      "// global attributes:\r\n",
      "\t\t:feature_type = \"trajectory\" ;\r\n",
      "\t\t:Conventions = \"CF-1.7, ACDD-1.3, ISO 8601\" ;\r\n",
      "\t\t:ncei_template_version = \"NCEI_NetCDF_Trajectory_Template_v2.0\" ;\r\n",
      "\t\t:parcels_version = \"2.2.2.dev126+g6dd05b7\" ;\r\n",
      "\t\t:parcels_mesh = \"spherical\" ;\r\n",
      "\t\t:Metadata_Conventions = \"Climate and Forecast (CF) 1.7, Attribute Convention for Data Discovery (ACDD) 1.3\" ;\r\n",
      "\t\t:standard_name_vocabulary = \"NetCDF Climate and Forecast (CF) Metadata Convention version 1.8\" ;\r\n",
      "\t\t:title = \"Tropical Atlantic 2D horizontal drift of Sargassum for ESA WOC project\" ;\r\n",
      "\t\t:summary = \"This dataset contains the positions of virtual particles released following the Miron et al (2020) field study at locations d1 and d2 at 15m representing the trajectories of Sargassum in the Tropical Atlantic.\" ;\r\n",
      "\t\t:id = \"WOC-L4-CURlag-TATL_SARGASSUM_DRIFT_1H_DRIFTERS\" ;\r\n",
      "\t\t:institution = \"Utrecht University, Institut Francais de Recherche pour l\\'Exploitation de la mer / CERSAT, European Space Agency\" ;\r\n",
      "\t\t:institution_abbreviation = \"Utrecht University, Ifremer/Cersat, ESA\" ;\r\n",
      "\t\t:references = \"Delandmeter, P., & Sebille, E. V. The Parcels v2. 0 Lagrangian framework: new field interpolation schemes. Geoscientific Model Development 2019, vol. 12, No. 8, 3571-3584. https://doi.org/10.5194/gmd-12-3571-2019.\" ;\r\n",
      "\t\t:product_version = \"1.0\" ;\r\n",
      "\t\t:keywords = \"Earth Science > Oceans > Ocean Circulation > Ocean Currents\" ;\r\n",
      "\t\t:keywords_vocabulary = \"NASA Global Change Master Directory (GCMD) Science Keywords\" ;\r\n",
      "\t\t:naming_authority = \"fr.ifremer.cersat\" ;\r\n",
      "\t\t:cdm_data_type = \"trajectory\" ;\r\n",
      "\t\t:comment = \"These data were produced at IMAU, Utrecht University (Netherlands) as part of the ESA WOC project.\" ;\r\n",
      "\t\t:creator = \"Laura Gomez Navarro\" ;\r\n",
      "\t\t:creator_url = \"https://oceanparcels.org/\" ;\r\n",
      "\t\t:creator_email = \"l.gomeznavarro@uu.nl\" ;\r\n",
      "\t\t:creator_institution = \"IMAU, Utrecht University\" ;\r\n",
      "\t\t:project = \"World Ocean Circulation (WOC) - European Space Agency\" ;\r\n",
      "\t\t:time_coverage_start = \"2018-03-12T07:00:00\" ;\r\n",
      "\t\t:time_coverage_end = \"2018-09-08T08:00:00\" ;\r\n",
      "\t\t:geospatial_lat_min = 5. ;\r\n",
      "\t\t:geospatial_lat_max = 30. ;\r\n",
      "\t\t:geospatial_lat_units = \"degree_north\" ;\r\n",
      "\t\t:geospatial_lon_min = -99. ;\r\n",
      "\t\t:geospatial_lon_max = -46. ;\r\n",
      "\t\t:geospatial_lon_units = \"degree_east\" ;\r\n",
      "\t\t:geospatial_vertical_min = \"15\" ;\r\n",
      "\t\t:geospatial_vertical_max = \"15\" ;\r\n",
      "\t\t:geospatial_vertical_units = \"meters below mean sea level\" ;\r\n",
      "\t\t:geospatial_vertical_positive = \"down\" ;\r\n",
      "\t\t:license = \"ESA WOC Data Policy: free and open access\" ;\r\n",
      "\t\t:netcdf_version_id = \"4.6.1 of May 13 2018 11:35:43 $\" ;\r\n",
      "\t\t:acknowledgement = \"Please acknowledge the use of these data with the following statement: these data were obtained from the ESA WOC project\" ;\r\n",
      "\t\t:format_version = \"WOC v1.0\" ;\r\n",
      "\t\t:processing_level = \"L4\" ;\r\n",
      "\t\t:method = \"2D lagrangian advection using Runge-Kutta4 and executed using the OceanParcels framework\" ;\r\n",
      "\t\t:track_id = \"7833e262-c396-4045-92b3-5b2260fc91ce\" ;\r\n",
      "\t\t:publisher_name = \"CERSAT\" ;\r\n",
      "\t\t:publisher_url = \"cersat.ifremer.fr\" ;\r\n",
      "\t\t:publisher_email = \"cersat@ifremer.fr\" ;\r\n",
      "\t\t:publisher_institution = \"Ifremer / CERSAT\" ;\r\n",
      "\t\t:scientific_support_contact = \"l.gomeznavarro@uu.nl\" ;\r\n",
      "\t\t:technical_support_contact = \"cersat@ifremer.fr\" ;\r\n",
      "\t\t:key_variables = \"eastward_eulerian_current_velocity, westward_eulerian_current_velocity\" ;\r\n",
      "\t\t:date_created = \"2021-05-31 17:12:54\" ;\r\n",
      "\t\t:date_modified = \"2021-05-31 17:12:54\" ;\r\n",
      "\t\t:source = \"parcels\" ;\r\n",
      "\t\t:source_version = \"2.2.2.dev126+g6dd05b7\" ;\r\n",
      "\t\t:history = \"2021-05-31 17:12:54 - Creation\" ;\r\n",
      "\t\t:input = \"WOC-L4-CUReul-TATL-1H: runWOC_TATL_4lb_v1_2018*.nc\" ;\r\n",
      "\t\t:processing_software = \"parcels\" ;\r\n",
      "\t\t:_NCProperties = \"version=2,netcdf=4.6.3,hdf5=1.10.4\" ;\r\n",
      "}\r\n"
     ]
    }
   ],
   "source": [
    "!ncdump -h /data/oceanparcels/output_data/data_LauraGN/outputs_parcels/WOC/Sargassum/out_01.nc"
   ]
  },
  {
   "cell_type": "markdown",
   "metadata": {},
   "source": [
    "# 2. Modifying trajectory:"
   ]
  },
  {
   "cell_type": "code",
   "execution_count": 5,
   "metadata": {},
   "outputs": [],
   "source": [
    "import xarray as xr\n",
    "import numpy as np"
   ]
  },
  {
   "cell_type": "code",
   "execution_count": 6,
   "metadata": {},
   "outputs": [],
   "source": [
    "ds = xr.open_dataset('/data/oceanparcels/output_data/data_LauraGN/outputs_parcels/WOC/Sargassum/out_01.nc')"
   ]
  },
  {
   "cell_type": "code",
   "execution_count": 7,
   "metadata": {
    "scrolled": true
   },
   "outputs": [
    {
     "data": {
      "text/plain": [
       "<xarray.Dataset>\n",
       "Dimensions:     (obs: 4322, traj: 10)\n",
       "Dimensions without coordinates: obs, traj\n",
       "Data variables:\n",
       "    time        (traj, obs) datetime64[ns] ...\n",
       "    trajectory  (traj, obs) float64 ...\n",
       "    lat         (traj, obs) float32 ...\n",
       "    lon         (traj, obs) float32 ...\n",
       "    z           (traj, obs) float32 ...\n",
       "    age         (traj, obs) float32 ...\n",
       "    launch_id   (traj) float32 ...\n",
       "Attributes:\n",
       "    feature_type:                  trajectory\n",
       "    Conventions:                   CF-1.7, ACDD-1.3, ISO 8601\n",
       "    ncei_template_version:         NCEI_NetCDF_Trajectory_Template_v2.0\n",
       "    parcels_version:               2.2.2.dev126+g6dd05b7\n",
       "    parcels_mesh:                  spherical\n",
       "    Metadata_Conventions:          Climate and Forecast (CF) 1.7, Attribute C...\n",
       "    standard_name_vocabulary:      NetCDF Climate and Forecast (CF) Metadata ...\n",
       "    title:                         Tropical Atlantic 2D horizontal drift of S...\n",
       "    summary:                       This dataset contains the positions of vir...\n",
       "    id:                            WOC-L4-CURlag-TATL_SARGASSUM_DRIFT_1H_DRIF...\n",
       "    institution:                   Utrecht University, Institut Francais de R...\n",
       "    institution_abbreviation:      Utrecht University, Ifremer/Cersat, ESA\n",
       "    references:                    Delandmeter, P., & Sebille, E. V. The Parc...\n",
       "    product_version:               1.0\n",
       "    keywords:                      Earth Science > Oceans > Ocean Circulation...\n",
       "    keywords_vocabulary:           NASA Global Change Master Directory (GCMD)...\n",
       "    naming_authority:              fr.ifremer.cersat\n",
       "    cdm_data_type:                 trajectory\n",
       "    comment:                       These data were produced at IMAU, Utrecht ...\n",
       "    creator:                       Laura Gomez Navarro\n",
       "    creator_url:                   https://oceanparcels.org/\n",
       "    creator_email:                 l.gomeznavarro@uu.nl\n",
       "    creator_institution:           IMAU, Utrecht University\n",
       "    project:                       World Ocean Circulation (WOC) - European S...\n",
       "    time_coverage_start:           2018-03-12T07:00:00\n",
       "    time_coverage_end:             2018-09-08T08:00:00\n",
       "    geospatial_lat_min:            5.0\n",
       "    geospatial_lat_max:            30.0\n",
       "    geospatial_lat_units:          degree_north\n",
       "    geospatial_lon_min:            -99.0\n",
       "    geospatial_lon_max:            -46.0\n",
       "    geospatial_lon_units:          degree_east\n",
       "    geospatial_vertical_min:       15\n",
       "    geospatial_vertical_max:       15\n",
       "    geospatial_vertical_units:     meters below mean sea level\n",
       "    geospatial_vertical_positive:  down\n",
       "    license:                       ESA WOC Data Policy: free and open access\n",
       "    netcdf_version_id:             4.6.1 of May 13 2018 11:35:43 $\n",
       "    acknowledgement:               Please acknowledge the use of these data w...\n",
       "    format_version:                WOC v1.0\n",
       "    processing_level:              L4\n",
       "    method:                        2D lagrangian advection using Runge-Kutta4...\n",
       "    track_id:                      7833e262-c396-4045-92b3-5b2260fc91ce\n",
       "    publisher_name:                CERSAT\n",
       "    publisher_url:                 cersat.ifremer.fr\n",
       "    publisher_email:               cersat@ifremer.fr\n",
       "    publisher_institution:         Ifremer / CERSAT\n",
       "    scientific_support_contact:    l.gomeznavarro@uu.nl\n",
       "    technical_support_contact:     cersat@ifremer.fr\n",
       "    key_variables:                 eastward_eulerian_current_velocity, westwa...\n",
       "    date_created:                  2021-05-31 17:12:54\n",
       "    date_modified:                 2021-05-31 17:12:54\n",
       "    source:                        parcels\n",
       "    source_version:                2.2.2.dev126+g6dd05b7\n",
       "    history:                       2021-05-31 17:12:54 - Creation\n",
       "    input:                         WOC-L4-CUReul-TATL-1H: runWOC_TATL_4lb_v1_...\n",
       "    processing_software:           parcels"
      ]
     },
     "execution_count": 7,
     "metadata": {},
     "output_type": "execute_result"
    }
   ],
   "source": [
    "ds"
   ]
  },
  {
   "cell_type": "markdown",
   "metadata": {},
   "source": [
    "## 2.1 Modifying it so it only depends on itself:"
   ]
  },
  {
   "cell_type": "code",
   "execution_count": 8,
   "metadata": {},
   "outputs": [
    {
     "data": {
      "text/plain": [
       "<xarray.DataArray 'trajectory' (traj: 10)>\n",
       "array([0., 1., 2., 3., 4., 5., 6., 7., 8., 9.])\n",
       "Dimensions without coordinates: traj\n",
       "Attributes:\n",
       "    long_name:  Unique identifier for each particle\n",
       "    cf_role:    trajectory_id"
      ]
     },
     "execution_count": 8,
     "metadata": {},
     "output_type": "execute_result"
    }
   ],
   "source": [
    "ds.trajectory[:,0]"
   ]
  },
  {
   "cell_type": "code",
   "execution_count": 9,
   "metadata": {},
   "outputs": [],
   "source": [
    "ds['trajectory'] = ds.trajectory[:,0]"
   ]
  },
  {
   "cell_type": "markdown",
   "metadata": {},
   "source": [
    "## 2.2 Renaming traj to trajectory:"
   ]
  },
  {
   "cell_type": "code",
   "execution_count": 10,
   "metadata": {},
   "outputs": [],
   "source": [
    "ds = ds.rename({'traj':'trajectory'}) "
   ]
  },
  {
   "cell_type": "code",
   "execution_count": 11,
   "metadata": {
    "scrolled": true
   },
   "outputs": [
    {
     "data": {
      "text/plain": [
       "<xarray.Dataset>\n",
       "Dimensions:     (obs: 4322, trajectory: 10)\n",
       "Dimensions without coordinates: obs, trajectory\n",
       "Data variables:\n",
       "    time        (trajectory, obs) datetime64[ns] ...\n",
       "    trajectory  (trajectory) float64 ...\n",
       "    lat         (trajectory, obs) float32 ...\n",
       "    lon         (trajectory, obs) float32 ...\n",
       "    z           (trajectory, obs) float32 ...\n",
       "    age         (trajectory, obs) float32 ...\n",
       "    launch_id   (trajectory) float32 ...\n",
       "Attributes:\n",
       "    feature_type:                  trajectory\n",
       "    Conventions:                   CF-1.7, ACDD-1.3, ISO 8601\n",
       "    ncei_template_version:         NCEI_NetCDF_Trajectory_Template_v2.0\n",
       "    parcels_version:               2.2.2.dev126+g6dd05b7\n",
       "    parcels_mesh:                  spherical\n",
       "    Metadata_Conventions:          Climate and Forecast (CF) 1.7, Attribute C...\n",
       "    standard_name_vocabulary:      NetCDF Climate and Forecast (CF) Metadata ...\n",
       "    title:                         Tropical Atlantic 2D horizontal drift of S...\n",
       "    summary:                       This dataset contains the positions of vir...\n",
       "    id:                            WOC-L4-CURlag-TATL_SARGASSUM_DRIFT_1H_DRIF...\n",
       "    institution:                   Utrecht University, Institut Francais de R...\n",
       "    institution_abbreviation:      Utrecht University, Ifremer/Cersat, ESA\n",
       "    references:                    Delandmeter, P., & Sebille, E. V. The Parc...\n",
       "    product_version:               1.0\n",
       "    keywords:                      Earth Science > Oceans > Ocean Circulation...\n",
       "    keywords_vocabulary:           NASA Global Change Master Directory (GCMD)...\n",
       "    naming_authority:              fr.ifremer.cersat\n",
       "    cdm_data_type:                 trajectory\n",
       "    comment:                       These data were produced at IMAU, Utrecht ...\n",
       "    creator:                       Laura Gomez Navarro\n",
       "    creator_url:                   https://oceanparcels.org/\n",
       "    creator_email:                 l.gomeznavarro@uu.nl\n",
       "    creator_institution:           IMAU, Utrecht University\n",
       "    project:                       World Ocean Circulation (WOC) - European S...\n",
       "    time_coverage_start:           2018-03-12T07:00:00\n",
       "    time_coverage_end:             2018-09-08T08:00:00\n",
       "    geospatial_lat_min:            5.0\n",
       "    geospatial_lat_max:            30.0\n",
       "    geospatial_lat_units:          degree_north\n",
       "    geospatial_lon_min:            -99.0\n",
       "    geospatial_lon_max:            -46.0\n",
       "    geospatial_lon_units:          degree_east\n",
       "    geospatial_vertical_min:       15\n",
       "    geospatial_vertical_max:       15\n",
       "    geospatial_vertical_units:     meters below mean sea level\n",
       "    geospatial_vertical_positive:  down\n",
       "    license:                       ESA WOC Data Policy: free and open access\n",
       "    netcdf_version_id:             4.6.1 of May 13 2018 11:35:43 $\n",
       "    acknowledgement:               Please acknowledge the use of these data w...\n",
       "    format_version:                WOC v1.0\n",
       "    processing_level:              L4\n",
       "    method:                        2D lagrangian advection using Runge-Kutta4...\n",
       "    track_id:                      7833e262-c396-4045-92b3-5b2260fc91ce\n",
       "    publisher_name:                CERSAT\n",
       "    publisher_url:                 cersat.ifremer.fr\n",
       "    publisher_email:               cersat@ifremer.fr\n",
       "    publisher_institution:         Ifremer / CERSAT\n",
       "    scientific_support_contact:    l.gomeznavarro@uu.nl\n",
       "    technical_support_contact:     cersat@ifremer.fr\n",
       "    key_variables:                 eastward_eulerian_current_velocity, westwa...\n",
       "    date_created:                  2021-05-31 17:12:54\n",
       "    date_modified:                 2021-05-31 17:12:54\n",
       "    source:                        parcels\n",
       "    source_version:                2.2.2.dev126+g6dd05b7\n",
       "    history:                       2021-05-31 17:12:54 - Creation\n",
       "    input:                         WOC-L4-CUReul-TATL-1H: runWOC_TATL_4lb_v1_...\n",
       "    processing_software:           parcels"
      ]
     },
     "execution_count": 11,
     "metadata": {},
     "output_type": "execute_result"
    }
   ],
   "source": [
    "ds"
   ]
  },
  {
   "cell_type": "code",
   "execution_count": 12,
   "metadata": {},
   "outputs": [],
   "source": [
    "ds.to_netcdf('/data/oceanparcels/output_data/data_LauraGN/outputs_parcels/WOC/Sargassum/out_02.nc')"
   ]
  },
  {
   "cell_type": "code",
   "execution_count": 13,
   "metadata": {},
   "outputs": [
    {
     "name": "stdout",
     "output_type": "stream",
     "text": [
      "netcdf out_02 {\n",
      "dimensions:\n",
      "\ttrajectory = 10 ;\n",
      "\tobs = 4322 ;\n",
      "variables:\n",
      "\tdouble time(trajectory, obs) ;\n",
      "\t\ttime:_FillValue = NaN ;\n",
      "\t\ttime:axis = \"T\" ;\n",
      "\t\ttime:long_name = \"\" ;\n",
      "\t\ttime:standard_name = \"time\" ;\n",
      "\t\ttime:units = \"seconds since 1970-01-01\" ;\n",
      "\t\ttime:calendar = \"standard\" ;\n",
      "\tint64 trajectory(trajectory) ;\n",
      "\t\ttrajectory:_FillValue = -9223372036854775808L ;\n",
      "\t\ttrajectory:long_name = \"Unique identifier for each particle\" ;\n",
      "\t\ttrajectory:cf_role = \"trajectory_id\" ;\n",
      "\tfloat lat(trajectory, obs) ;\n",
      "\t\tlat:_FillValue = NaNf ;\n",
      "\t\tlat:long_name = \"\" ;\n",
      "\t\tlat:standard_name = \"latitude\" ;\n",
      "\t\tlat:units = \"degrees_north\" ;\n",
      "\t\tlat:axis = \"Y\" ;\n",
      "\tfloat lon(trajectory, obs) ;\n",
      "\t\tlon:_FillValue = NaNf ;\n",
      "\t\tlon:long_name = \"\" ;\n",
      "\t\tlon:standard_name = \"longitude\" ;\n",
      "\t\tlon:units = \"degrees_east\" ;\n",
      "\t\tlon:axis = \"X\" ;\n",
      "\tfloat z(trajectory, obs) ;\n",
      "\t\tz:_FillValue = NaNf ;\n",
      "\t\tz:long_name = \"\" ;\n",
      "\t\tz:standard_name = \"depth\" ;\n",
      "\t\tz:units = \"m\" ;\n",
      "\t\tz:positive = \"down\" ;\n",
      "\tfloat age(trajectory, obs) ;\n",
      "\t\tage:_FillValue = NaNf ;\n",
      "\t\tage:long_name = \"\" ;\n",
      "\t\tage:standard_name = \"age\" ;\n",
      "\t\tage:units = \"unknown\" ;\n",
      "\tfloat launch_id(trajectory) ;\n",
      "\t\tlaunch_id:_FillValue = NaNf ;\n",
      "\t\tlaunch_id:long_name = \"\" ;\n",
      "\t\tlaunch_id:standard_name = \"launch_id\" ;\n",
      "\t\tlaunch_id:units = \"unknown\" ;\n",
      "\n",
      "// global attributes:\n",
      "\t\t:feature_type = \"trajectory\" ;\n",
      "\t\t:Conventions = \"CF-1.7, ACDD-1.3, ISO 8601\" ;\n",
      "\t\t:ncei_template_version = \"NCEI_NetCDF_Trajectory_Template_v2.0\" ;\n",
      "\t\t:parcels_version = \"2.2.2.dev126+g6dd05b7\" ;\n",
      "\t\t:parcels_mesh = \"spherical\" ;\n",
      "\t\t:Metadata_Conventions = \"Climate and Forecast (CF) 1.7, Attribute Convention for Data Discovery (ACDD) 1.3\" ;\n",
      "\t\t:standard_name_vocabulary = \"NetCDF Climate and Forecast (CF) Metadata Convention version 1.8\" ;\n",
      "\t\t:title = \"Tropical Atlantic 2D horizontal drift of Sargassum for ESA WOC project\" ;\n",
      "\t\t:summary = \"This dataset contains the positions of virtual particles released following the Miron et al (2020) field study at locations d1 and d2 at 15m representing the trajectories of Sargassum in the Tropical Atlantic.\" ;\n",
      "\t\t:id = \"WOC-L4-CURlag-TATL_SARGASSUM_DRIFT_1H_DRIFTERS\" ;\n",
      "\t\t:institution = \"Utrecht University, Institut Francais de Recherche pour l\\'Exploitation de la mer / CERSAT, European Space Agency\" ;\n",
      "\t\t:institution_abbreviation = \"Utrecht University, Ifremer/Cersat, ESA\" ;\n",
      "\t\t:references = \"Delandmeter, P., & Sebille, E. V. The Parcels v2. 0 Lagrangian framework: new field interpolation schemes. Geoscientific Model Development 2019, vol. 12, No. 8, 3571-3584. https://doi.org/10.5194/gmd-12-3571-2019.\" ;\n",
      "\t\t:product_version = \"1.0\" ;\n",
      "\t\t:keywords = \"Earth Science > Oceans > Ocean Circulation > Ocean Currents\" ;\n",
      "\t\t:keywords_vocabulary = \"NASA Global Change Master Directory (GCMD) Science Keywords\" ;\n",
      "\t\t:naming_authority = \"fr.ifremer.cersat\" ;\n",
      "\t\t:cdm_data_type = \"trajectory\" ;\n",
      "\t\t:comment = \"These data were produced at IMAU, Utrecht University (Netherlands) as part of the ESA WOC project.\" ;\n",
      "\t\t:creator = \"Laura Gomez Navarro\" ;\n",
      "\t\t:creator_url = \"https://oceanparcels.org/\" ;\n",
      "\t\t:creator_email = \"l.gomeznavarro@uu.nl\" ;\n",
      "\t\t:creator_institution = \"IMAU, Utrecht University\" ;\n",
      "\t\t:project = \"World Ocean Circulation (WOC) - European Space Agency\" ;\n",
      "\t\t:time_coverage_start = \"2018-03-12T07:00:00\" ;\n",
      "\t\t:time_coverage_end = \"2018-09-08T08:00:00\" ;\n",
      "\t\t:geospatial_lat_min = 5. ;\n",
      "\t\t:geospatial_lat_max = 30. ;\n",
      "\t\t:geospatial_lat_units = \"degree_north\" ;\n",
      "\t\t:geospatial_lon_min = -99. ;\n",
      "\t\t:geospatial_lon_max = -46. ;\n",
      "\t\t:geospatial_lon_units = \"degree_east\" ;\n",
      "\t\t:geospatial_vertical_min = \"15\" ;\n",
      "\t\t:geospatial_vertical_max = \"15\" ;\n",
      "\t\t:geospatial_vertical_units = \"meters below mean sea level\" ;\n",
      "\t\t:geospatial_vertical_positive = \"down\" ;\n",
      "\t\t:license = \"ESA WOC Data Policy: free and open access\" ;\n",
      "\t\t:netcdf_version_id = \"4.6.1 of May 13 2018 11:35:43 $\" ;\n",
      "\t\t:acknowledgement = \"Please acknowledge the use of these data with the following statement: these data were obtained from the ESA WOC project\" ;\n",
      "\t\t:format_version = \"WOC v1.0\" ;\n",
      "\t\t:processing_level = \"L4\" ;\n",
      "\t\t:method = \"2D lagrangian advection using Runge-Kutta4 and executed using the OceanParcels framework\" ;\n",
      "\t\t:track_id = \"7833e262-c396-4045-92b3-5b2260fc91ce\" ;\n",
      "\t\t:publisher_name = \"CERSAT\" ;\n",
      "\t\t:publisher_url = \"cersat.ifremer.fr\" ;\n",
      "\t\t:publisher_email = \"cersat@ifremer.fr\" ;\n",
      "\t\t:publisher_institution = \"Ifremer / CERSAT\" ;\n",
      "\t\t:scientific_support_contact = \"l.gomeznavarro@uu.nl\" ;\n",
      "\t\t:technical_support_contact = \"cersat@ifremer.fr\" ;\n",
      "\t\t:key_variables = \"eastward_eulerian_current_velocity, westward_eulerian_current_velocity\" ;\n",
      "\t\t:date_created = \"2021-05-31 17:12:54\" ;\n",
      "\t\t:date_modified = \"2021-05-31 17:12:54\" ;\n",
      "\t\t:source = \"parcels\" ;\n",
      "\t\t:source_version = \"2.2.2.dev126+g6dd05b7\" ;\n",
      "\t\t:history = \"2021-05-31 17:12:54 - Creation\" ;\n",
      "\t\t:input = \"WOC-L4-CUReul-TATL-1H: runWOC_TATL_4lb_v1_2018*.nc\" ;\n",
      "\t\t:processing_software = \"parcels\" ;\n",
      "\t\t:_NCProperties = \"version=2,netcdf=4.6.3,hdf5=1.10.4\" ;\n",
      "}\n"
     ]
    }
   ],
   "source": [
    "!ncdump -h /data/oceanparcels/output_data/data_LauraGN/outputs_parcels/WOC/Sargassum/out_02.nc"
   ]
  },
  {
   "cell_type": "markdown",
   "metadata": {},
   "source": [
    "# 3. Change NaN values to 1e20:"
   ]
  },
  {
   "cell_type": "code",
   "execution_count": 14,
   "metadata": {},
   "outputs": [],
   "source": [
    "!ncatted -h -a _FillValue,,m,f,1.0e20 /data/oceanparcels/output_data/data_LauraGN/outputs_parcels/WOC/Sargassum/out_02.nc"
   ]
  },
  {
   "cell_type": "code",
   "execution_count": 15,
   "metadata": {},
   "outputs": [
    {
     "name": "stdout",
     "output_type": "stream",
     "text": [
      "netcdf out_02 {\r\n",
      "dimensions:\r\n",
      "\ttrajectory = 10 ;\r\n",
      "\tobs = 4322 ;\r\n",
      "variables:\r\n",
      "\tdouble time(trajectory, obs) ;\r\n",
      "\t\ttime:axis = \"T\" ;\r\n",
      "\t\ttime:long_name = \"\" ;\r\n",
      "\t\ttime:standard_name = \"time\" ;\r\n",
      "\t\ttime:units = \"seconds since 1970-01-01\" ;\r\n",
      "\t\ttime:calendar = \"standard\" ;\r\n",
      "\t\ttime:_FillValue = 1.e+20f ;\r\n",
      "\tint64 trajectory(trajectory) ;\r\n",
      "\t\ttrajectory:long_name = \"Unique identifier for each particle\" ;\r\n",
      "\t\ttrajectory:cf_role = \"trajectory_id\" ;\r\n",
      "\t\ttrajectory:_FillValue = 1.e+20f ;\r\n",
      "\tfloat lat(trajectory, obs) ;\r\n",
      "\t\tlat:long_name = \"\" ;\r\n",
      "\t\tlat:standard_name = \"latitude\" ;\r\n",
      "\t\tlat:units = \"degrees_north\" ;\r\n",
      "\t\tlat:axis = \"Y\" ;\r\n",
      "\t\tlat:_FillValue = 1.e+20f ;\r\n",
      "\tfloat lon(trajectory, obs) ;\r\n",
      "\t\tlon:long_name = \"\" ;\r\n",
      "\t\tlon:standard_name = \"longitude\" ;\r\n",
      "\t\tlon:units = \"degrees_east\" ;\r\n",
      "\t\tlon:axis = \"X\" ;\r\n",
      "\t\tlon:_FillValue = 1.e+20f ;\r\n",
      "\tfloat z(trajectory, obs) ;\r\n",
      "\t\tz:long_name = \"\" ;\r\n",
      "\t\tz:standard_name = \"depth\" ;\r\n",
      "\t\tz:units = \"m\" ;\r\n",
      "\t\tz:positive = \"down\" ;\r\n",
      "\t\tz:_FillValue = 1.e+20f ;\r\n",
      "\tfloat age(trajectory, obs) ;\r\n",
      "\t\tage:long_name = \"\" ;\r\n",
      "\t\tage:standard_name = \"age\" ;\r\n",
      "\t\tage:units = \"unknown\" ;\r\n",
      "\t\tage:_FillValue = 1.e+20f ;\r\n",
      "\tfloat launch_id(trajectory) ;\r\n",
      "\t\tlaunch_id:long_name = \"\" ;\r\n",
      "\t\tlaunch_id:standard_name = \"launch_id\" ;\r\n",
      "\t\tlaunch_id:units = \"unknown\" ;\r\n",
      "\t\tlaunch_id:_FillValue = 1.e+20f ;\r\n",
      "\r\n",
      "// global attributes:\r\n",
      "\t\t:feature_type = \"trajectory\" ;\r\n",
      "\t\t:Conventions = \"CF-1.7, ACDD-1.3, ISO 8601\" ;\r\n",
      "\t\t:ncei_template_version = \"NCEI_NetCDF_Trajectory_Template_v2.0\" ;\r\n",
      "\t\t:parcels_version = \"2.2.2.dev126+g6dd05b7\" ;\r\n",
      "\t\t:parcels_mesh = \"spherical\" ;\r\n",
      "\t\t:Metadata_Conventions = \"Climate and Forecast (CF) 1.7, Attribute Convention for Data Discovery (ACDD) 1.3\" ;\r\n",
      "\t\t:standard_name_vocabulary = \"NetCDF Climate and Forecast (CF) Metadata Convention version 1.8\" ;\r\n",
      "\t\t:title = \"Tropical Atlantic 2D horizontal drift of Sargassum for ESA WOC project\" ;\r\n",
      "\t\t:summary = \"This dataset contains the positions of virtual particles released following the Miron et al (2020) field study at locations d1 and d2 at 15m representing the trajectories of Sargassum in the Tropical Atlantic.\" ;\r\n",
      "\t\t:id = \"WOC-L4-CURlag-TATL_SARGASSUM_DRIFT_1H_DRIFTERS\" ;\r\n",
      "\t\t:institution = \"Utrecht University, Institut Francais de Recherche pour l\\'Exploitation de la mer / CERSAT, European Space Agency\" ;\r\n",
      "\t\t:institution_abbreviation = \"Utrecht University, Ifremer/Cersat, ESA\" ;\r\n",
      "\t\t:references = \"Delandmeter, P., & Sebille, E. V. The Parcels v2. 0 Lagrangian framework: new field interpolation schemes. Geoscientific Model Development 2019, vol. 12, No. 8, 3571-3584. https://doi.org/10.5194/gmd-12-3571-2019.\" ;\r\n",
      "\t\t:product_version = \"1.0\" ;\r\n",
      "\t\t:keywords = \"Earth Science > Oceans > Ocean Circulation > Ocean Currents\" ;\r\n",
      "\t\t:keywords_vocabulary = \"NASA Global Change Master Directory (GCMD) Science Keywords\" ;\r\n",
      "\t\t:naming_authority = \"fr.ifremer.cersat\" ;\r\n",
      "\t\t:cdm_data_type = \"trajectory\" ;\r\n",
      "\t\t:comment = \"These data were produced at IMAU, Utrecht University (Netherlands) as part of the ESA WOC project.\" ;\r\n",
      "\t\t:creator = \"Laura Gomez Navarro\" ;\r\n",
      "\t\t:creator_url = \"https://oceanparcels.org/\" ;\r\n",
      "\t\t:creator_email = \"l.gomeznavarro@uu.nl\" ;\r\n",
      "\t\t:creator_institution = \"IMAU, Utrecht University\" ;\r\n",
      "\t\t:project = \"World Ocean Circulation (WOC) - European Space Agency\" ;\r\n",
      "\t\t:time_coverage_start = \"2018-03-12T07:00:00\" ;\r\n",
      "\t\t:time_coverage_end = \"2018-09-08T08:00:00\" ;\r\n",
      "\t\t:geospatial_lat_min = 5. ;\r\n",
      "\t\t:geospatial_lat_max = 30. ;\r\n",
      "\t\t:geospatial_lat_units = \"degree_north\" ;\r\n",
      "\t\t:geospatial_lon_min = -99. ;\r\n",
      "\t\t:geospatial_lon_max = -46. ;\r\n",
      "\t\t:geospatial_lon_units = \"degree_east\" ;\r\n",
      "\t\t:geospatial_vertical_min = \"15\" ;\r\n",
      "\t\t:geospatial_vertical_max = \"15\" ;\r\n",
      "\t\t:geospatial_vertical_units = \"meters below mean sea level\" ;\r\n",
      "\t\t:geospatial_vertical_positive = \"down\" ;\r\n",
      "\t\t:license = \"ESA WOC Data Policy: free and open access\" ;\r\n",
      "\t\t:netcdf_version_id = \"4.6.1 of May 13 2018 11:35:43 $\" ;\r\n",
      "\t\t:acknowledgement = \"Please acknowledge the use of these data with the following statement: these data were obtained from the ESA WOC project\" ;\r\n",
      "\t\t:format_version = \"WOC v1.0\" ;\r\n",
      "\t\t:processing_level = \"L4\" ;\r\n",
      "\t\t:method = \"2D lagrangian advection using Runge-Kutta4 and executed using the OceanParcels framework\" ;\r\n",
      "\t\t:track_id = \"7833e262-c396-4045-92b3-5b2260fc91ce\" ;\r\n",
      "\t\t:publisher_name = \"CERSAT\" ;\r\n",
      "\t\t:publisher_url = \"cersat.ifremer.fr\" ;\r\n",
      "\t\t:publisher_email = \"cersat@ifremer.fr\" ;\r\n",
      "\t\t:publisher_institution = \"Ifremer / CERSAT\" ;\r\n",
      "\t\t:scientific_support_contact = \"l.gomeznavarro@uu.nl\" ;\r\n",
      "\t\t:technical_support_contact = \"cersat@ifremer.fr\" ;\r\n",
      "\t\t:key_variables = \"eastward_eulerian_current_velocity, westward_eulerian_current_velocity\" ;\r\n",
      "\t\t:date_created = \"2021-05-31 17:12:54\" ;\r\n",
      "\t\t:date_modified = \"2021-05-31 17:12:54\" ;\r\n",
      "\t\t:source = \"parcels\" ;\r\n",
      "\t\t:source_version = \"2.2.2.dev126+g6dd05b7\" ;\r\n",
      "\t\t:history = \"2021-05-31 17:12:54 - Creation\" ;\r\n",
      "\t\t:input = \"WOC-L4-CUReul-TATL-1H: runWOC_TATL_4lb_v1_2018*.nc\" ;\r\n",
      "\t\t:processing_software = \"parcels\" ;\r\n",
      "\t\t:_NCProperties = \"version=2,netcdf=4.6.3,hdf5=1.10.4\" ;\r\n",
      "}\r\n"
     ]
    }
   ],
   "source": [
    "!ncdump -h /data/oceanparcels/output_data/data_LauraGN/outputs_parcels/WOC/Sargassum/out_02.nc"
   ]
  },
  {
   "cell_type": "markdown",
   "metadata": {},
   "source": [
    "# 4. Rename:"
   ]
  },
  {
   "cell_type": "markdown",
   "metadata": {},
   "source": [
    "adding depth and fv02 to filename"
   ]
  },
  {
   "cell_type": "code",
   "execution_count": 16,
   "metadata": {},
   "outputs": [],
   "source": [
    "!mv /data/oceanparcels/output_data/data_LauraGN/outputs_parcels/WOC/Sargassum/out_02.nc /data/oceanparcels/output_data/data_LauraGN/outputs_parcels/WOC/Sargassum/20180312070000-WOC-L4-CURlag_15m-TATL_SARGASSUM_DRIFT_1H_DRIFTERS-v1.0-fv2.0.nc"
   ]
  },
  {
   "cell_type": "code",
   "execution_count": 17,
   "metadata": {},
   "outputs": [
    {
     "name": "stdout",
     "output_type": "stream",
     "text": [
      "netcdf \\20180312070000-WOC-L4-CURlag_15m-TATL_SARGASSUM_DRIFT_1H_DRIFTERS-v1.0-fv2.0 {\r\n",
      "dimensions:\r\n",
      "\ttrajectory = 10 ;\r\n",
      "\tobs = 4322 ;\r\n",
      "variables:\r\n",
      "\tdouble time(trajectory, obs) ;\r\n",
      "\t\ttime:axis = \"T\" ;\r\n",
      "\t\ttime:long_name = \"\" ;\r\n",
      "\t\ttime:standard_name = \"time\" ;\r\n",
      "\t\ttime:units = \"seconds since 1970-01-01\" ;\r\n",
      "\t\ttime:calendar = \"standard\" ;\r\n",
      "\t\ttime:_FillValue = 1.e+20f ;\r\n",
      "\tint64 trajectory(trajectory) ;\r\n",
      "\t\ttrajectory:long_name = \"Unique identifier for each particle\" ;\r\n",
      "\t\ttrajectory:cf_role = \"trajectory_id\" ;\r\n",
      "\t\ttrajectory:_FillValue = 1.e+20f ;\r\n",
      "\tfloat lat(trajectory, obs) ;\r\n",
      "\t\tlat:long_name = \"\" ;\r\n",
      "\t\tlat:standard_name = \"latitude\" ;\r\n",
      "\t\tlat:units = \"degrees_north\" ;\r\n",
      "\t\tlat:axis = \"Y\" ;\r\n",
      "\t\tlat:_FillValue = 1.e+20f ;\r\n",
      "\tfloat lon(trajectory, obs) ;\r\n",
      "\t\tlon:long_name = \"\" ;\r\n",
      "\t\tlon:standard_name = \"longitude\" ;\r\n",
      "\t\tlon:units = \"degrees_east\" ;\r\n",
      "\t\tlon:axis = \"X\" ;\r\n",
      "\t\tlon:_FillValue = 1.e+20f ;\r\n",
      "\tfloat z(trajectory, obs) ;\r\n",
      "\t\tz:long_name = \"\" ;\r\n",
      "\t\tz:standard_name = \"depth\" ;\r\n",
      "\t\tz:units = \"m\" ;\r\n",
      "\t\tz:positive = \"down\" ;\r\n",
      "\t\tz:_FillValue = 1.e+20f ;\r\n",
      "\tfloat age(trajectory, obs) ;\r\n",
      "\t\tage:long_name = \"\" ;\r\n",
      "\t\tage:standard_name = \"age\" ;\r\n",
      "\t\tage:units = \"unknown\" ;\r\n",
      "\t\tage:_FillValue = 1.e+20f ;\r\n",
      "\tfloat launch_id(trajectory) ;\r\n",
      "\t\tlaunch_id:long_name = \"\" ;\r\n",
      "\t\tlaunch_id:standard_name = \"launch_id\" ;\r\n",
      "\t\tlaunch_id:units = \"unknown\" ;\r\n",
      "\t\tlaunch_id:_FillValue = 1.e+20f ;\r\n",
      "\r\n",
      "// global attributes:\r\n",
      "\t\t:feature_type = \"trajectory\" ;\r\n",
      "\t\t:Conventions = \"CF-1.7, ACDD-1.3, ISO 8601\" ;\r\n",
      "\t\t:ncei_template_version = \"NCEI_NetCDF_Trajectory_Template_v2.0\" ;\r\n",
      "\t\t:parcels_version = \"2.2.2.dev126+g6dd05b7\" ;\r\n",
      "\t\t:parcels_mesh = \"spherical\" ;\r\n",
      "\t\t:Metadata_Conventions = \"Climate and Forecast (CF) 1.7, Attribute Convention for Data Discovery (ACDD) 1.3\" ;\r\n",
      "\t\t:standard_name_vocabulary = \"NetCDF Climate and Forecast (CF) Metadata Convention version 1.8\" ;\r\n",
      "\t\t:title = \"Tropical Atlantic 2D horizontal drift of Sargassum for ESA WOC project\" ;\r\n",
      "\t\t:summary = \"This dataset contains the positions of virtual particles released following the Miron et al (2020) field study at locations d1 and d2 at 15m representing the trajectories of Sargassum in the Tropical Atlantic.\" ;\r\n",
      "\t\t:id = \"WOC-L4-CURlag-TATL_SARGASSUM_DRIFT_1H_DRIFTERS\" ;\r\n",
      "\t\t:institution = \"Utrecht University, Institut Francais de Recherche pour l\\'Exploitation de la mer / CERSAT, European Space Agency\" ;\r\n",
      "\t\t:institution_abbreviation = \"Utrecht University, Ifremer/Cersat, ESA\" ;\r\n",
      "\t\t:references = \"Delandmeter, P., & Sebille, E. V. The Parcels v2. 0 Lagrangian framework: new field interpolation schemes. Geoscientific Model Development 2019, vol. 12, No. 8, 3571-3584. https://doi.org/10.5194/gmd-12-3571-2019.\" ;\r\n",
      "\t\t:product_version = \"1.0\" ;\r\n",
      "\t\t:keywords = \"Earth Science > Oceans > Ocean Circulation > Ocean Currents\" ;\r\n",
      "\t\t:keywords_vocabulary = \"NASA Global Change Master Directory (GCMD) Science Keywords\" ;\r\n",
      "\t\t:naming_authority = \"fr.ifremer.cersat\" ;\r\n",
      "\t\t:cdm_data_type = \"trajectory\" ;\r\n",
      "\t\t:comment = \"These data were produced at IMAU, Utrecht University (Netherlands) as part of the ESA WOC project.\" ;\r\n",
      "\t\t:creator = \"Laura Gomez Navarro\" ;\r\n",
      "\t\t:creator_url = \"https://oceanparcels.org/\" ;\r\n",
      "\t\t:creator_email = \"l.gomeznavarro@uu.nl\" ;\r\n",
      "\t\t:creator_institution = \"IMAU, Utrecht University\" ;\r\n",
      "\t\t:project = \"World Ocean Circulation (WOC) - European Space Agency\" ;\r\n",
      "\t\t:time_coverage_start = \"2018-03-12T07:00:00\" ;\r\n",
      "\t\t:time_coverage_end = \"2018-09-08T08:00:00\" ;\r\n",
      "\t\t:geospatial_lat_min = 5. ;\r\n",
      "\t\t:geospatial_lat_max = 30. ;\r\n",
      "\t\t:geospatial_lat_units = \"degree_north\" ;\r\n",
      "\t\t:geospatial_lon_min = -99. ;\r\n",
      "\t\t:geospatial_lon_max = -46. ;\r\n",
      "\t\t:geospatial_lon_units = \"degree_east\" ;\r\n",
      "\t\t:geospatial_vertical_min = \"15\" ;\r\n",
      "\t\t:geospatial_vertical_max = \"15\" ;\r\n",
      "\t\t:geospatial_vertical_units = \"meters below mean sea level\" ;\r\n",
      "\t\t:geospatial_vertical_positive = \"down\" ;\r\n",
      "\t\t:license = \"ESA WOC Data Policy: free and open access\" ;\r\n",
      "\t\t:netcdf_version_id = \"4.6.1 of May 13 2018 11:35:43 $\" ;\r\n",
      "\t\t:acknowledgement = \"Please acknowledge the use of these data with the following statement: these data were obtained from the ESA WOC project\" ;\r\n",
      "\t\t:format_version = \"WOC v1.0\" ;\r\n",
      "\t\t:processing_level = \"L4\" ;\r\n",
      "\t\t:method = \"2D lagrangian advection using Runge-Kutta4 and executed using the OceanParcels framework\" ;\r\n",
      "\t\t:track_id = \"7833e262-c396-4045-92b3-5b2260fc91ce\" ;\r\n",
      "\t\t:publisher_name = \"CERSAT\" ;\r\n",
      "\t\t:publisher_url = \"cersat.ifremer.fr\" ;\r\n",
      "\t\t:publisher_email = \"cersat@ifremer.fr\" ;\r\n",
      "\t\t:publisher_institution = \"Ifremer / CERSAT\" ;\r\n",
      "\t\t:scientific_support_contact = \"l.gomeznavarro@uu.nl\" ;\r\n",
      "\t\t:technical_support_contact = \"cersat@ifremer.fr\" ;\r\n",
      "\t\t:key_variables = \"eastward_eulerian_current_velocity, westward_eulerian_current_velocity\" ;\r\n",
      "\t\t:date_created = \"2021-05-31 17:12:54\" ;\r\n",
      "\t\t:date_modified = \"2021-05-31 17:12:54\" ;\r\n",
      "\t\t:source = \"parcels\" ;\r\n",
      "\t\t:source_version = \"2.2.2.dev126+g6dd05b7\" ;\r\n",
      "\t\t:history = \"2021-05-31 17:12:54 - Creation\" ;\r\n",
      "\t\t:input = \"WOC-L4-CUReul-TATL-1H: runWOC_TATL_4lb_v1_2018*.nc\" ;\r\n",
      "\t\t:processing_software = \"parcels\" ;\r\n",
      "\t\t:_NCProperties = \"version=2,netcdf=4.6.3,hdf5=1.10.4\" ;\r\n",
      "}\r\n"
     ]
    }
   ],
   "source": [
    "!ncdump -h /data/oceanparcels/output_data/data_LauraGN/outputs_parcels/WOC/Sargassum/20180312070000-WOC-L4-CURlag_15m-TATL_SARGASSUM_DRIFT_1H_DRIFTERS-v1.0-fv2.0.nc"
   ]
  },
  {
   "cell_type": "markdown",
   "metadata": {},
   "source": [
    "# 6. Delete extra files"
   ]
  },
  {
   "cell_type": "code",
   "execution_count": 18,
   "metadata": {},
   "outputs": [],
   "source": [
    "!rm -rf /data/oceanparcels/output_data/data_LauraGN/outputs_parcels/WOC/Sargassum/out_*"
   ]
  },
  {
   "cell_type": "markdown",
   "metadata": {},
   "source": [
    "# 7. Opening with xarray"
   ]
  },
  {
   "cell_type": "code",
   "execution_count": 19,
   "metadata": {},
   "outputs": [],
   "source": [
    "ds = xr.open_dataset('/data/oceanparcels/output_data/data_LauraGN/outputs_parcels/WOC/Sargassum/20180312070000-WOC-L4-CURlag_15m-TATL_SARGASSUM_DRIFT_1H_DRIFTERS-v1.0-fv2.0.nc')"
   ]
  },
  {
   "cell_type": "code",
   "execution_count": 20,
   "metadata": {},
   "outputs": [
    {
     "data": {
      "text/plain": [
       "<xarray.Dataset>\n",
       "Dimensions:     (obs: 4322, trajectory: 10)\n",
       "Coordinates:\n",
       "  * trajectory  (trajectory) float64 0.0 1.0 2.0 3.0 4.0 5.0 6.0 7.0 8.0 9.0\n",
       "Dimensions without coordinates: obs\n",
       "Data variables:\n",
       "    time        (trajectory, obs) datetime64[ns] ...\n",
       "    lat         (trajectory, obs) float32 ...\n",
       "    lon         (trajectory, obs) float32 ...\n",
       "    z           (trajectory, obs) float32 ...\n",
       "    age         (trajectory, obs) float32 ...\n",
       "    launch_id   (trajectory) float32 ...\n",
       "Attributes:\n",
       "    feature_type:                  trajectory\n",
       "    Conventions:                   CF-1.7, ACDD-1.3, ISO 8601\n",
       "    ncei_template_version:         NCEI_NetCDF_Trajectory_Template_v2.0\n",
       "    parcels_version:               2.2.2.dev126+g6dd05b7\n",
       "    parcels_mesh:                  spherical\n",
       "    Metadata_Conventions:          Climate and Forecast (CF) 1.7, Attribute C...\n",
       "    standard_name_vocabulary:      NetCDF Climate and Forecast (CF) Metadata ...\n",
       "    title:                         Tropical Atlantic 2D horizontal drift of S...\n",
       "    summary:                       This dataset contains the positions of vir...\n",
       "    id:                            WOC-L4-CURlag-TATL_SARGASSUM_DRIFT_1H_DRIF...\n",
       "    institution:                   Utrecht University, Institut Francais de R...\n",
       "    institution_abbreviation:      Utrecht University, Ifremer/Cersat, ESA\n",
       "    references:                    Delandmeter, P., & Sebille, E. V. The Parc...\n",
       "    product_version:               1.0\n",
       "    keywords:                      Earth Science > Oceans > Ocean Circulation...\n",
       "    keywords_vocabulary:           NASA Global Change Master Directory (GCMD)...\n",
       "    naming_authority:              fr.ifremer.cersat\n",
       "    cdm_data_type:                 trajectory\n",
       "    comment:                       These data were produced at IMAU, Utrecht ...\n",
       "    creator:                       Laura Gomez Navarro\n",
       "    creator_url:                   https://oceanparcels.org/\n",
       "    creator_email:                 l.gomeznavarro@uu.nl\n",
       "    creator_institution:           IMAU, Utrecht University\n",
       "    project:                       World Ocean Circulation (WOC) - European S...\n",
       "    time_coverage_start:           2018-03-12T07:00:00\n",
       "    time_coverage_end:             2018-09-08T08:00:00\n",
       "    geospatial_lat_min:            5.0\n",
       "    geospatial_lat_max:            30.0\n",
       "    geospatial_lat_units:          degree_north\n",
       "    geospatial_lon_min:            -99.0\n",
       "    geospatial_lon_max:            -46.0\n",
       "    geospatial_lon_units:          degree_east\n",
       "    geospatial_vertical_min:       15\n",
       "    geospatial_vertical_max:       15\n",
       "    geospatial_vertical_units:     meters below mean sea level\n",
       "    geospatial_vertical_positive:  down\n",
       "    license:                       ESA WOC Data Policy: free and open access\n",
       "    netcdf_version_id:             4.6.1 of May 13 2018 11:35:43 $\n",
       "    acknowledgement:               Please acknowledge the use of these data w...\n",
       "    format_version:                WOC v1.0\n",
       "    processing_level:              L4\n",
       "    method:                        2D lagrangian advection using Runge-Kutta4...\n",
       "    track_id:                      7833e262-c396-4045-92b3-5b2260fc91ce\n",
       "    publisher_name:                CERSAT\n",
       "    publisher_url:                 cersat.ifremer.fr\n",
       "    publisher_email:               cersat@ifremer.fr\n",
       "    publisher_institution:         Ifremer / CERSAT\n",
       "    scientific_support_contact:    l.gomeznavarro@uu.nl\n",
       "    technical_support_contact:     cersat@ifremer.fr\n",
       "    key_variables:                 eastward_eulerian_current_velocity, westwa...\n",
       "    date_created:                  2021-05-31 17:12:54\n",
       "    date_modified:                 2021-05-31 17:12:54\n",
       "    source:                        parcels\n",
       "    source_version:                2.2.2.dev126+g6dd05b7\n",
       "    history:                       2021-05-31 17:12:54 - Creation\n",
       "    input:                         WOC-L4-CUReul-TATL-1H: runWOC_TATL_4lb_v1_...\n",
       "    processing_software:           parcels"
      ]
     },
     "execution_count": 20,
     "metadata": {},
     "output_type": "execute_result"
    }
   ],
   "source": [
    "ds"
   ]
  },
  {
   "cell_type": "code",
   "execution_count": 21,
   "metadata": {},
   "outputs": [
    {
     "data": {
      "text/plain": [
       "<xarray.DataArray 'trajectory' (trajectory: 10)>\n",
       "array([0., 1., 2., 3., 4., 5., 6., 7., 8., 9.])\n",
       "Coordinates:\n",
       "  * trajectory  (trajectory) float64 0.0 1.0 2.0 3.0 4.0 5.0 6.0 7.0 8.0 9.0\n",
       "Attributes:\n",
       "    long_name:  Unique identifier for each particle\n",
       "    cf_role:    trajectory_id"
      ]
     },
     "execution_count": 21,
     "metadata": {},
     "output_type": "execute_result"
    }
   ],
   "source": [
    "ds.trajectory"
   ]
  },
  {
   "cell_type": "code",
   "execution_count": 22,
   "metadata": {},
   "outputs": [
    {
     "data": {
      "text/plain": [
       "<xarray.DataArray 'lon' (trajectory: 10, obs: 4322)>\n",
       "array([[-61.71927 , -61.71557 , -61.711987, ..., -60.903778, -60.903034,\n",
       "        -60.902905],\n",
       "       [-61.71469 , -61.711094, -61.70755 , ..., -60.634727, -60.63163 ,\n",
       "        -60.63137 ],\n",
       "       [-61.720455, -61.71674 , -61.71314 , ..., -60.8891  , -60.88854 ,\n",
       "               nan],\n",
       "       ...,\n",
       "       [-46.05394 , -46.055523, -46.0568  , ...,        nan,        nan,\n",
       "               nan],\n",
       "       [-46.009   , -46.011196, -46.013653, ...,        nan,        nan,\n",
       "               nan],\n",
       "       [-46.003   , -46.00606 , -46.00913 , ...,        nan,        nan,\n",
       "               nan]], dtype=float32)\n",
       "Coordinates:\n",
       "  * trajectory  (trajectory) float64 0.0 1.0 2.0 3.0 4.0 5.0 6.0 7.0 8.0 9.0\n",
       "Dimensions without coordinates: obs\n",
       "Attributes:\n",
       "    long_name:      \n",
       "    standard_name:  longitude\n",
       "    units:          degrees_east\n",
       "    axis:           X"
      ]
     },
     "execution_count": 22,
     "metadata": {},
     "output_type": "execute_result"
    }
   ],
   "source": [
    "ds.lon"
   ]
  },
  {
   "cell_type": "code",
   "execution_count": null,
   "metadata": {},
   "outputs": [],
   "source": []
  }
 ],
 "metadata": {
  "kernelspec": {
   "display_name": "Python 3",
   "language": "python",
   "name": "python3"
  },
  "language_info": {
   "codemirror_mode": {
    "name": "ipython",
    "version": 3
   },
   "file_extension": ".py",
   "mimetype": "text/x-python",
   "name": "python",
   "nbconvert_exporter": "python",
   "pygments_lexer": "ipython3",
   "version": "3.6.8"
  }
 },
 "nbformat": 4,
 "nbformat_minor": 2
}
